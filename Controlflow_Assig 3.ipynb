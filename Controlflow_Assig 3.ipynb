{
 "cells": [
  {
   "cell_type": "code",
   "execution_count": 1,
   "id": "7ac55e54-03b0-4b07-9509-b570ab86e9b6",
   "metadata": {},
   "outputs": [
    {
     "name": "stdout",
     "output_type": "stream",
     "text": [
      "Negative number\n"
     ]
    }
   ],
   "source": [
    "                                    #Basic If-Else Statements:\n",
    "#1. Write a Python program to check if a given number is positive or negative.\n",
    "num = -8\n",
    "if num >= 0:\n",
    "    if num == 0:\n",
    "        print(\"Zero\")\n",
    "    else:\n",
    "        print(\"Positive number\")\n",
    "else:\n",
    "    print(\"Negative number\")"
   ]
  },
  {
   "cell_type": "code",
   "execution_count": 2,
   "id": "5bda46f7-62f5-4ecc-9435-0ce02892a67a",
   "metadata": {},
   "outputs": [
    {
     "name": "stdin",
     "output_type": "stream",
     "text": [
      "Enter age :  9\n"
     ]
    },
    {
     "name": "stdout",
     "output_type": "stream",
     "text": [
      "Not Eligible for Voting!\n"
     ]
    }
   ],
   "source": [
    "#2. Create a program that determines if a person is eligible to vote based on their age.\n",
    "age = int(input(\"Enter age : \"))\n",
    "\n",
    "if age >= 18:\n",
    "    print(\"Eligible for Voting!\")\n",
    "else:\n",
    "    print(\"Not Eligible for Voting!\")"
   ]
  },
  {
   "cell_type": "code",
   "execution_count": 3,
   "id": "5ee32981-2445-412d-8c6a-02db61cc18be",
   "metadata": {},
   "outputs": [
    {
     "name": "stdout",
     "output_type": "stream",
     "text": [
      "45\n"
     ]
    }
   ],
   "source": [
    "#3. Develop a program to find the maximum of two numbers using if-else statements.\n",
    "def maximum(a, b):\n",
    "      if a >= b:\n",
    "        return a\n",
    "      else:\n",
    "        return b\n",
    "a = 20\n",
    "b = 45\n",
    "print(maximum(a, b))"
   ]
  },
  {
   "cell_type": "code",
   "execution_count": 4,
   "id": "63f36c1f-0ad2-4115-ba59-133647780ffc",
   "metadata": {},
   "outputs": [
    {
     "name": "stdin",
     "output_type": "stream",
     "text": [
      "Enter the number:  2024\n"
     ]
    },
    {
     "name": "stdout",
     "output_type": "stream",
     "text": [
      "Given Year is a leap Year\n"
     ]
    }
   ],
   "source": [
    "#4. Write a Python script to classify a given year as a leap year or not.\n",
    "def CheckLeap(Year):  \n",
    "    if((Year % 400 == 0) or  \n",
    "     (Year % 100 != 0) and  \n",
    "     (Year % 4 == 0)):   \n",
    "        print(\"Given Year is a leap Year\");  \n",
    "  # Else it is not a leap year  \n",
    "    else:  \n",
    "        print (\"Given Year is not a leap Year\")  \n",
    "# Taking an input year from user  \n",
    "Year = int(input(\"Enter the number: \"))  \n",
    "# Printing result  \n",
    "CheckLeap(Year)  "
   ]
  },
  {
   "cell_type": "code",
   "execution_count": 5,
   "id": "edb3edb3-fe3e-455a-b9ca-4323f9b1402c",
   "metadata": {},
   "outputs": [
    {
     "name": "stdout",
     "output_type": "stream",
     "text": [
      "Consonant\n",
      "Consonant\n"
     ]
    }
   ],
   "source": [
    "#5. Create a program that checks whether a character is a vowel or a consonant.\n",
    "def vowelOrConsonant(x): \n",
    "  \n",
    "    if (x == 'a' or x == 'e' or\n",
    "        x == 'i' or x == 'o' or x == 'u'): \n",
    "        print(\"Vowel\") \n",
    "    else: \n",
    "        print(\"Consonant\") \n",
    "  \n",
    "# Driver code \n",
    "vowelOrConsonant('f') \n",
    "vowelOrConsonant('z') "
   ]
  },
  {
   "cell_type": "code",
   "execution_count": 6,
   "id": "97e9d26c-f02e-4b48-a4aa-388ddbd60985",
   "metadata": {},
   "outputs": [
    {
     "name": "stdout",
     "output_type": "stream",
     "text": [
      "Even\n"
     ]
    }
   ],
   "source": [
    "#6. Implement a program to determine whether a given number is even or odd.\n",
    "def isEven(n): \n",
    "  \n",
    "    # n&1 is 1, then odd, else even \n",
    "    return (not(n & 1)) \n",
    "# Driver code \n",
    "n = 6\n",
    "print(\"Even\" if isEven(n) else \"Odd\") "
   ]
  },
  {
   "cell_type": "code",
   "execution_count": 7,
   "id": "fadfe2a0-3158-44be-bb76-9154d123bc04",
   "metadata": {},
   "outputs": [
    {
     "name": "stdout",
     "output_type": "stream",
     "text": [
      "18\n"
     ]
    }
   ],
   "source": [
    "#7. Write a Python function to calculate the absolute value of a number without using the `abs()` function.\n",
    "def findAbsolute(N):\n",
    " # If the number is less than\n",
    "    # zero, then multiply by (-1)\n",
    "    if (N < 0):\n",
    "        N = (-1) * N;\n",
    "     # Print the absolute value\n",
    "    print(N);\n",
    " # Driver code\n",
    "if __name__ == '__main__':\n",
    " \n",
    "    # Given integer\n",
    "    N = -18;\n",
    "    # Function call\n",
    "    findAbsolute(N);"
   ]
  },
  {
   "cell_type": "code",
   "execution_count": 8,
   "id": "8c42c556-398a-4ed1-9be6-15c35cac47b2",
   "metadata": {},
   "outputs": [
    {
     "name": "stdin",
     "output_type": "stream",
     "text": [
      "Enter A:  79\n",
      "Enter B:  80\n",
      "Enter C:  90\n"
     ]
    },
    {
     "name": "stdout",
     "output_type": "stream",
     "text": [
      "Greater  =  90\n"
     ]
    }
   ],
   "source": [
    "#8. Develop a program that determines the largest of three given numbers using if-else statements.\n",
    "a=int(input(\"Enter A: \"))\n",
    "b=int(input(\"Enter B: \"))\n",
    "c=int(input(\"Enter C: \"))\n",
    "\n",
    "# conditions to find largest \n",
    "if a>b:\n",
    "    if a>c:\n",
    "        g=a\n",
    "    else:\n",
    "        g=c\n",
    "else:\n",
    "    if b>c:\n",
    "        g=b\n",
    "    else:\n",
    "        g=c\n",
    "# print the largest number \n",
    "print(\"Greater  = \",g)"
   ]
  },
  {
   "cell_type": "code",
   "execution_count": 9,
   "id": "ec5dd942-80b3-474a-98f5-c615f6b72c64",
   "metadata": {},
   "outputs": [
    {
     "name": "stdout",
     "output_type": "stream",
     "text": [
      "Yes\n"
     ]
    }
   ],
   "source": [
    "#9. Create a program that checks if a given string is a palindrome.\n",
    "def isPalindrome(s):\n",
    "    return s == s[::-1] \n",
    "# Driver code\n",
    "s = \"appa\"\n",
    "ans = isPalindrome(s)\n",
    " \n",
    "if ans:\n",
    "    print(\"Yes\")\n",
    "else:\n",
    "    print(\"No\")"
   ]
  },
  {
   "cell_type": "code",
   "execution_count": 10,
   "id": "8e8718fc-5aa9-4b54-98ec-353edf05a0e4",
   "metadata": {},
   "outputs": [
    {
     "name": "stdout",
     "output_type": "stream",
     "text": [
      "Your Grade is B1\n"
     ]
    }
   ],
   "source": [
    "#10. Write a Python program to calculate the grade based on a student's score.\n",
    "#print(\"Enter Marks Obtained in 5 Subjects: \")\n",
    "total1 = 50\n",
    "total2 = 80\n",
    "total3 = 90\n",
    "total4 = 98\n",
    "total5 = 67 \n",
    "tot = total1 + total2 + total3 + total4 + total5\n",
    "avg = tot / 5\n",
    " \n",
    "if avg >= 91 and avg <= 100:\n",
    "    print(\"Your Grade is A1\")\n",
    "elif avg >= 81 and avg < 91:\n",
    "    print(\"Your Grade is A2\")\n",
    "elif avg >= 71 and avg < 81:\n",
    "    print(\"Your Grade is B1\")\n",
    "elif avg >= 61 and avg < 71:\n",
    "    print(\"Your Grade is B2\")\n",
    "elif avg >= 51 and avg < 61:\n",
    "    print(\"Your Grade is C1\")\n",
    "elif avg >= 41 and avg < 51:\n",
    "    print(\"Your Grade is C2\")\n",
    "elif avg >= 33 and avg < 41:\n",
    "    print(\"Your Grade is D\")\n",
    "elif avg >= 21 and avg < 33:\n",
    "    print(\"Your Grade is E1\")\n",
    "elif avg >= 0 and avg < 21:\n",
    "    print(\"Your Grade is E2\")\n",
    "else:\n",
    "    print(\"Invalid Input!\")\n",
    "    "
   ]
  },
  {
   "cell_type": "code",
   "execution_count": 11,
   "id": "96c39a34-4007-4b75-8475-2f31b57bab3c",
   "metadata": {},
   "outputs": [
    {
     "name": "stdout",
     "output_type": "stream",
     "text": [
      "99\n"
     ]
    }
   ],
   "source": [
    "                                                    #Nested If-Else Statements:\n",
    "#11. Write a program to find the largest among three numbers using nested if-else statements.\n",
    "num1, num2, num3 = 10,40,99\n",
    "max = 0\n",
    "if num1 >= num2:\n",
    "    if num1 >= num3:\n",
    "        print(num1)\n",
    "elif num2 >= num1:\n",
    "    if num2 >= num3:\n",
    "        print(num2)\n",
    "    else :\n",
    "        print(num3)"
   ]
  },
  {
   "cell_type": "code",
   "execution_count": 12,
   "id": "a3ea2aa0-47b9-4a81-a266-b6b0f665cb29",
   "metadata": {},
   "outputs": [
    {
     "name": "stdout",
     "output_type": "stream",
     "text": [
      "Isosceles Triangle\n"
     ]
    }
   ],
   "source": [
    "#12. Implement a program to determine if a triangle is equilateral, isosceles, or scalene.\n",
    "def checkTriangle(x, y, z):\n",
    "    # _Check for equilateral triangle\n",
    "    if x == y == z:\n",
    "        print(\"Equilateral Triangle\")\n",
    " \n",
    "    # Check for isosceles triangle\n",
    "    elif x == y or y == z or z == x:\n",
    "        print(\"Isosceles Triangle\")\n",
    " \n",
    "    # Otherwise scalene triangle\n",
    "    else:\n",
    "        print(\"Scalene Triangle\")\n",
    "x = 8\n",
    "y = 7\n",
    "z = 8\n",
    "# Function Call\n",
    "checkTriangle(x, y, z)"
   ]
  },
  {
   "cell_type": "code",
   "execution_count": 13,
   "id": "90c2ef69-bd29-4d9a-a551-3dec26dc6909",
   "metadata": {},
   "outputs": [
    {
     "name": "stdout",
     "output_type": "stream",
     "text": [
      "Not a centuary Year\n"
     ]
    }
   ],
   "source": [
    "#13. Develop a program that checks if a year is a leap year and also if it is a century year.\n",
    "def checkYear(year): \n",
    "    import calendar\n",
    "    return(calendar.isleap(year)) \n",
    "    \n",
    "# Driver Code  \n",
    "year = 2027\n",
    "if (checkYear(year)): \n",
    "    print(\"Leap Year\") \n",
    "else: \n",
    "    print(\"Not a centuary Year\") "
   ]
  },
  {
   "cell_type": "code",
   "execution_count": 14,
   "id": "e8bb66fa-f366-4eb0-a433-6a582aa92deb",
   "metadata": {},
   "outputs": [
    {
     "name": "stdout",
     "output_type": "stream",
     "text": [
      "Zero\n"
     ]
    }
   ],
   "source": [
    "#14. Write a Python script to determine if a number is positive, negative, or zero.\n",
    "num = 0\n",
    "if num > 0:\n",
    "    print(\"Positive number\")\n",
    "elif num == 0:\n",
    "        print(\"Zero\")\n",
    "elif num<0:\n",
    "    print(\"Negative number\")"
   ]
  },
  {
   "cell_type": "code",
   "execution_count": 15,
   "id": "bee97ba9-f8d0-4627-bdce-2d66d1f92ab4",
   "metadata": {},
   "outputs": [
    {
     "name": "stdin",
     "output_type": "stream",
     "text": [
      "Enter your age:  70\n"
     ]
    },
    {
     "name": "stdout",
     "output_type": "stream",
     "text": [
      "Your age group is Senior Citizen\n"
     ]
    }
   ],
   "source": [
    "#15. Create a program to check if a person is a teenager (between 13 and 19 years old).\n",
    "age = int(input(\"Enter your age: \"))\n",
    "\n",
    "if age >= 0 and age <= 12:\n",
    "  print(\"Your age group is Child\")\n",
    "elif age >= 13 and age <= 19:\n",
    "  print(\"Your age group is Teenager\")\n",
    "elif age >= 20 and age <= 59:\n",
    "  print(\"Your age group is Adult\")\n",
    "else:\n",
    "  print(\"Your age group is Senior Citizen\")"
   ]
  },
  {
   "cell_type": "code",
   "execution_count": 2,
   "id": "2d247c3d-3441-4e29-810a-37e2eec5062d",
   "metadata": {},
   "outputs": [
    {
     "name": "stdout",
     "output_type": "stream",
     "text": [
      "The angle with measure 160 degrees is a Obtuse Angle.\n"
     ]
    }
   ],
   "source": [
    "#16. Develop a program that determines the type of angle based on its measure (acute, obtuse, or right). \n",
    "def determine_angle_type(angle_measure):\n",
    "    if angle_measure < 90:\n",
    "        return \"Acute Angle\"\n",
    "    elif angle_measure == 90:\n",
    "        return \"Right Angle\"\n",
    "    elif angle_measure > 90 and angle_measure < 180:\n",
    "        return \"Obtuse Angle\"\n",
    "    else:\n",
    "        return \"Invalid Angle Measure\"\n",
    "# Example: Determine the type of angle based on its measure\n",
    "angle_measure = 160\n",
    "angle_type = determine_angle_type(angle_measure)\n",
    "# Display the result\n",
    "print(f\"The angle with measure {angle_measure} degrees is a {angle_type}.\")"
   ]
  },
  {
   "cell_type": "code",
   "execution_count": 18,
   "id": "d6c6f828-1e95-47ad-a654-5914a49a831f",
   "metadata": {},
   "outputs": [
    {
     "name": "stdout",
     "output_type": "stream",
     "text": [
      "The roots are\n",
      "(-0.25-1.1124297730643495j)\n",
      "(-0.25+1.1124297730643495j)\n"
     ]
    }
   ],
   "source": [
    "#17. Write a Python program to calculate the roots of a quadratic equation.\n",
    "# import complex math module\n",
    "import cmath\n",
    " \n",
    "a = 10\n",
    "b = 5\n",
    "c = 13\n",
    " \n",
    "# calculating  the discriminant\n",
    "dis = (b**2) - (4 * a*c)\n",
    " \n",
    "# find two results\n",
    "ans1 = (-b-cmath.sqrt(dis))/(2 * a)\n",
    "ans2 = (-b + cmath.sqrt(dis))/(2 * a)\n",
    " \n",
    "# printing the results\n",
    "print('The roots are')\n",
    "print(ans1)\n",
    "print(ans2)"
   ]
  },
  {
   "cell_type": "code",
   "execution_count": 19,
   "id": "ba17f3b1-21cf-4dbc-bcc7-3a4993121b52",
   "metadata": {},
   "outputs": [
    {
     "name": "stdin",
     "output_type": "stream",
     "text": [
      "Enter a number from 1 to 7:  5\n"
     ]
    },
    {
     "name": "stdout",
     "output_type": "stream",
     "text": [
      "5 is Thursday\n"
     ]
    }
   ],
   "source": [
    "#18. Implement a program to determine the day of the week based on a user-provided number (1 for Monday, 2 for Tuesday, etc.).\n",
    "day = int(input(\"Enter a number from 1 to 7: \"))\n",
    "\n",
    "if day == 1:\n",
    "    print(day, \"is Sunday\")\n",
    "elif day == 2:\n",
    "    print(day, \"is Monday\")\n",
    "elif day == 3:\n",
    "    print(day, \"is Tuesday\")\n",
    "elif day == 4:\n",
    "    print(day, \"is Wednesday\")\n",
    "elif day == 5:\n",
    "    print(day, \"is Thursday\")\n",
    "elif day == 6:\n",
    "    print(day, \"is Friday\")\n",
    "elif day == 7:\n",
    "    print(day, \"is Saturday\")\n",
    "else:\n",
    "    print(\"Wrong input! Please enter a number from 1 to 7.\")\n",
    "    "
   ]
  },
  {
   "cell_type": "code",
   "execution_count": 24,
   "id": "32cd37a9-43ed-447e-9473-ebfd1e7c565c",
   "metadata": {},
   "outputs": [
    {
     "name": "stdout",
     "output_type": "stream",
     "text": [
      "1\n"
     ]
    }
   ],
   "source": [
    "# 19. Create a program that determines if a year is a leap year and also if it is evenly divisible by 400.\n",
    "def ISLP(y):\n",
    "    if((y % 400 == 0) or\n",
    "\t(y % 100 != 0) and\n",
    "\t(y % 4 == 0)): \n",
    "        return 1;\n",
    "    else:\n",
    "        return 0;\n",
    "# Driver code\n",
    "if __name__=='__main__':\n",
    "    year = 2020;\n",
    "    print(ISLP(year));\n",
    "    "
   ]
  },
  {
   "cell_type": "code",
   "execution_count": 25,
   "id": "beb4fac0-e1b6-49fd-acca-45101a379937",
   "metadata": {},
   "outputs": [
    {
     "name": "stdout",
     "output_type": "stream",
     "text": [
      "11 is a prime number\n"
     ]
    }
   ],
   "source": [
    "#20. Develop a program that checks if a given number is prime or not using nested if-else statements.\n",
    "num = 11\n",
    "# If given number is greater than 1\n",
    "if num > 1:\n",
    "    # Iterate from 2 to n / 2\n",
    "    for i in range(2, int(num/2)+1):\n",
    "        # If num is divisible by any number between\n",
    "        # 2 and n / 2, it is not prime\n",
    "        if (num % i) == 0:\n",
    "            print(num, \"is not a prime number\")\n",
    "            break\n",
    "    else:\n",
    "        print(num, \"is a prime number\")\n",
    "else:\n",
    "    print(num, \"is not a prime number\")"
   ]
  },
  {
   "cell_type": "code",
   "execution_count": 26,
   "id": "f06b195e-8613-432a-9646-e2bfe8d33c15",
   "metadata": {},
   "outputs": [
    {
     "name": "stdin",
     "output_type": "stream",
     "text": [
      "Enter your mark  89\n"
     ]
    },
    {
     "name": "stdout",
     "output_type": "stream",
     "text": [
      "You got A grade\n"
     ]
    }
   ],
   "source": [
    "#21. Write a Python program to assign grades based on different ranges of scores using elif statements.\n",
    "m=int(input(\"Enter your mark \"))\n",
    "if(m>=80):\n",
    "    print(\"You got A grade\")\n",
    "elif(m>=60):\n",
    "    print(\"You got B grade\")\n",
    "elif(m>=40):\n",
    "    print(\"You got C grade\")\n",
    "else:\n",
    "    print(\"Failed in this Exam \")\n",
    "          "
   ]
  },
  {
   "cell_type": "code",
   "execution_count": 27,
   "id": "d0b893d1-f728-4910-b0d6-48d1f3291808",
   "metadata": {},
   "outputs": [
    {
     "name": "stdin",
     "output_type": "stream",
     "text": [
      "Enter the measure of angle 1:  78\n",
      "Enter the measure of angle 2:  80\n",
      "Enter the measure of angle 3:  80\n"
     ]
    },
    {
     "name": "stdout",
     "output_type": "stream",
     "text": [
      "The triangle is a None.\n"
     ]
    }
   ],
   "source": [
    "#22.Implement a program to determine the type of a triangle based on its angles.\n",
    "def determine_triangle_type(angle1, angle2, angle3):\n",
    "    # Check if the angles form a valid triangle\n",
    "    if angle1 + angle2 + angle3 == 180:\n",
    "        # Classify the triangle based on its angles\n",
    "        if angle1 == angle2 == angle3:\n",
    "            return \"Equilateral Triangle\"\n",
    "        elif angle1 == angle2 or angle2 == angle3 or angle1 == angle3:\n",
    "            return \"Isosceles Triangle\"\n",
    "        else:\n",
    "            return \"Scalene Triangle\"\n",
    "\n",
    "# Example: Determine the type of a triangle\n",
    "angle1 = int(input(\"Enter the measure of angle 1: \"))\n",
    "angle2 = int(input(\"Enter the measure of angle 2: \"))\n",
    "angle3 = int(input(\"Enter the measure of angle 3: \"))\n",
    "\n",
    "triangle_type = determine_triangle_type(angle1, angle2, angle3)\n",
    "\n",
    "# Display the result\n",
    "print(f\"The triangle is a {triangle_type}.\")"
   ]
  },
  {
   "cell_type": "code",
   "execution_count": 28,
   "id": "74a8a217-7e23-47d5-a1ef-1e07f8db4e5d",
   "metadata": {},
   "outputs": [
    {
     "name": "stdout",
     "output_type": "stream",
     "text": [
      "The BMI is 21.64532402096181 it is normal\n"
     ]
    }
   ],
   "source": [
    "#23. Develop a program to categorize a given person's BMI into underweight, normal, overweight, or obese using elif statements.\n",
    "def BMI(height, weight): \n",
    "    bmi = weight/(height**2) \n",
    "    return bmi \n",
    "# Driver code \n",
    "height = 1.79832\n",
    "weight = 70\n",
    "# calling the BMI function \n",
    "bmi = BMI(height, weight) \n",
    "print(\"The BMI is\", format(bmi), \"it is \", end='') \n",
    "if (bmi < 18.5): \n",
    "    print(\"underweight\") \n",
    "elif ( bmi >= 18.5 and bmi < 24.9):\n",
    "    print(\"normal\")\n",
    "elif ( bmi >= 24.9 and bmi < 30):\n",
    "    print(\"overweight\")\n",
    "else:\n",
    "    print(\"Obese\")  "
   ]
  },
  {
   "cell_type": "code",
   "execution_count": 29,
   "id": "86742028-d3a2-47eb-8f55-f5825b33454a",
   "metadata": {},
   "outputs": [
    {
     "name": "stdin",
     "output_type": "stream",
     "text": [
      "enter the number 60\n"
     ]
    },
    {
     "name": "stdout",
     "output_type": "stream",
     "text": [
      "number is positive\n"
     ]
    }
   ],
   "source": [
    "#24. Create a program that determines whether a given number is positive, negative, or zero using elif tatements.\n",
    "num=int(input(\"enter the number\"))\n",
    "if num<0:\n",
    "    print(\"number is negative\")\n",
    "elif num==0:\n",
    "    print(\"number is zero\")\n",
    "else:\n",
    "    print(\"number is positive\")\n",
    "    "
   ]
  },
  {
   "cell_type": "code",
   "execution_count": 30,
   "id": "971bdcc5-c475-414b-adef-f7c677821f51",
   "metadata": {},
   "outputs": [
    {
     "name": "stdin",
     "output_type": "stream",
     "text": [
      "Enter a character:  tgjgwioj3qfi3\n"
     ]
    },
    {
     "name": "stdout",
     "output_type": "stream",
     "text": [
      "tgjgwioj3qfi3 is a lowercase letter.\n"
     ]
    }
   ],
   "source": [
    "#25. Write a Python script to determine the type of a character (uppercase, lowercase, or special) using elif statements.\n",
    "def determine_character_type(char):\n",
    "    if char.isupper():\n",
    "        return f\"{char} is an uppercase letter.\"\n",
    "    elif char.islower():\n",
    "        return f\"{char} is a lowercase letter.\"\n",
    "    elif char.isnumeric():\n",
    "        return f\"{char} is a numeric digit.\"\n",
    "    else:\n",
    "        return f\"{char} is a special character.\"\n",
    "\n",
    "# Example: Determine the type of a character\n",
    "character = input(\"Enter a character: \")\n",
    "\n",
    "character_type = determine_character_type(character)\n",
    "\n",
    "# Display the result\n",
    "print(character_type)\n"
   ]
  },
  {
   "cell_type": "code",
   "execution_count": 31,
   "id": "aa0b50c8-cb07-44fc-b055-3c94a073b0ed",
   "metadata": {},
   "outputs": [
    {
     "name": "stdin",
     "output_type": "stream",
     "text": [
      "Enter the purchase amount:  500\n"
     ]
    },
    {
     "name": "stdout",
     "output_type": "stream",
     "text": [
      "Discounted Price: rs 475.0\n"
     ]
    }
   ],
   "source": [
    "#26. Implement a program to calculate the discounted price based on different purchase amounts using elif statements.\n",
    "def calculate_discounted_price(purchase_amount):\n",
    "    # Define discount rates based on purchase amounts\n",
    "    if purchase_amount >= 1000:\n",
    "        discount_rate = 0.1\n",
    "    elif purchase_amount >= 500:\n",
    "        discount_rate = 0.05\n",
    "    elif purchase_amount >= 200:\n",
    "        discount_rate = 0.02\n",
    "    else:\n",
    "        discount_rate = 0.0  # No discount for purchases less than 200\n",
    "# Calculate the discounted price\n",
    "    discounted_price = purchase_amount - (purchase_amount * discount_rate)\n",
    "    return discounted_price\n",
    "# Example: Calculate discounted price for a purchase amount\n",
    "purchase_amount = float(input(\"Enter the purchase amount: \"))\n",
    "discounted_price = calculate_discounted_price(purchase_amount)\n",
    "# Display the result\n",
    "print(f\"Discounted Price: rs {discounted_price:}\")"
   ]
  },
  {
   "cell_type": "code",
   "execution_count": 32,
   "id": "758c6a84-4add-4d1b-859d-e117d3c93616",
   "metadata": {},
   "outputs": [
    {
     "name": "stdin",
     "output_type": "stream",
     "text": [
      "Enter the units consumed:  67\n"
     ]
    },
    {
     "name": "stdout",
     "output_type": "stream",
     "text": [
      "Electricity Bill: Rs335.0\n"
     ]
    }
   ],
   "source": [
    "#27. Develop a program to calculate the electricity bill based on different consumption slabs using elif statements.\n",
    "def calculate_electricity_bill(units_consumed):\n",
    "    # Define electricity rates based on consumption slabs\n",
    "    if units_consumed <= 50:\n",
    "        rate = 2.5\n",
    "    elif units_consumed <= 100:\n",
    "        rate = 5.0\n",
    "    elif units_consumed <= 200:\n",
    "        rate = 7.5\n",
    "    else:\n",
    "        rate = 10.0\n",
    "# Calculate the electricity bill\n",
    "    bill_amount = units_consumed * rate\n",
    "    return bill_amount\n",
    "# Example: Calculate electricity bill for a given units consumed\n",
    "units_consumed = float(input(\"Enter the units consumed: \"))\n",
    "electricity_bill = calculate_electricity_bill(units_consumed)\n",
    "# Display the result\n",
    "print(f\"Electricity Bill: Rs{electricity_bill:}\")"
   ]
  },
  {
   "cell_type": "code",
   "execution_count": 33,
   "id": "001ba43a-2c6b-4b1c-b44f-621eacbe02e5",
   "metadata": {},
   "outputs": [
    {
     "name": "stdout",
     "output_type": "stream",
     "text": [
      "The quadrilateral is a Quadrilateral.\n"
     ]
    }
   ],
   "source": [
    "#28.Create a program to determine the type of quadrilateral based on its angles and sides using elif statements.\n",
    "def determine_quadrilateral_type(angles, sides):\n",
    "    # Check if the angles and sides form a valid quadrilateral\n",
    "    if sum(angles) == 360 and len(angles) == 4 and len(sides) == 4:\n",
    "        # Classify the quadrilateral based on angles and sides\n",
    "        if all(angle == 90 for angle in angles):\n",
    "            if all(side1 == side2 == side3):\n",
    "                return \"Square\"\n",
    "            else:\n",
    "                return \"Rectangle\"\n",
    "        elif any(angle == 90 for angle in angles):\n",
    "            return \"Trapezoid\"\n",
    "        else:\n",
    "            return \"Quadrilateral\"\n",
    "    else:\n",
    "        return \"Invalid Quadrilateral\"\n",
    "\n",
    "# Example: Determine the type of a quadrilateral\n",
    "angles = [40,50,100,170]\n",
    "sides = [4, 4, 4, 4]\n",
    "quadrilateral_type = determine_quadrilateral_type(angles, sides)\n",
    "\n",
    "# Display the result\n",
    "print(f\"The quadrilateral is a {quadrilateral_type}.\")"
   ]
  },
  {
   "cell_type": "code",
   "execution_count": 34,
   "id": "034b7135-ff59-4b57-8944-403bfff20893",
   "metadata": {},
   "outputs": [
    {
     "name": "stdout",
     "output_type": "stream",
     "text": [
      "For Month number: 5\n",
      "SPRING\n"
     ]
    }
   ],
   "source": [
    "#29. Write a Python script to determine the season based on a user-provided month using elif statement\n",
    "def findseason (M) :\n",
    "    # month numbers in the list.\n",
    "    list1 = [[12 , 1 , 2], [3 , 4 , 5], \n",
    "             [6 , 7 , 8], [9 , 10 , 11]]         \n",
    "    # Matching the month number \n",
    "    if M in list1[0] :\n",
    "        print ( \"WINTER\" )\n",
    "    elif M in list1[1] :\n",
    "        print ( \"SPRING\" )\n",
    "    elif M in list1[2] :\n",
    "        print ( \"SUMMER\" )\n",
    "    elif M in list1[3] :\n",
    "        print ( \"AUTUMN\" )\n",
    "    else :\n",
    "        print ( \"Invalid Month Number\" ) \n",
    "# Driver Code\n",
    "M = 5\n",
    "print(\"For Month number:\", M);\n",
    "findseason ( M )"
   ]
  },
  {
   "cell_type": "code",
   "execution_count": 35,
   "id": "ed31db5d-d14c-4051-aba9-a84321e7ada0",
   "metadata": {},
   "outputs": [
    {
     "name": "stdout",
     "output_type": "stream",
     "text": [
      "Number of days is 29 its leap year\n"
     ]
    }
   ],
   "source": [
    "#30. Implement a program to determine the type of a year (leap or common) and month (30 or 31 days) usingelif statements.\n",
    "month = 2\n",
    "year=2024\n",
    "if((month==2) and ((year%4==0)  or ((year%100==0) and (year%400==0)))) :\n",
    "    print(\"Number of days is 29 its leap year\");\n",
    "elif(month==2) :\n",
    "    print(\"Number of days is 28\");\n",
    "elif(month==1 or month==3 or month==5 or month==7 or month==8 or month==10 or month==12) :\n",
    "    print(\"Number of days is 31\");\n",
    "else :\n",
    "    print(\"Number of days is 30\");\n",
    "    "
   ]
  },
  {
   "cell_type": "code",
   "execution_count": 40,
   "id": "bab5441e-9755-4ca0-a87b-1b4694afc2e3",
   "metadata": {},
   "outputs": [
    {
     "name": "stdout",
     "output_type": "stream",
     "text": [
      "number is negative\n"
     ]
    }
   ],
   "source": [
    "                                              #PART_II\n",
    "#1. Write a Python program that checks if a given number is positive, negative, or zero.\n",
    "num=-120\n",
    "if num<0:\n",
    "    print(\"number is negative\")\n",
    "elif num==0:\n",
    "    print(\"number is zero\")\n",
    "else:\n",
    "    print(\"number is positive\")"
   ]
  },
  {
   "cell_type": "code",
   "execution_count": 39,
   "id": "f1aea6c2-6766-4926-b8f6-5d627920c343",
   "metadata": {},
   "outputs": [
    {
     "name": "stdout",
     "output_type": "stream",
     "text": [
      "eligible to vote\n"
     ]
    }
   ],
   "source": [
    "#2. Create a program to determine if a person is eligible to vote based on their age.\n",
    "age = 54\n",
    "\n",
    "if age >= 0 and age <= 12:\n",
    "  print(\"not eligible to vote because you are child\")\n",
    "elif age >= 13 and age <= 59:\n",
    "  print(\"eligible to vote\")\n",
    "else:\n",
    "  print(\"incorrect age\")\n"
   ]
  },
  {
   "cell_type": "code",
   "execution_count": 21,
   "id": "6580913a-4a33-49af-8abb-76e34abbe778",
   "metadata": {},
   "outputs": [
    {
     "name": "stdout",
     "output_type": "stream",
     "text": [
      "The maximum number is f.\n"
     ]
    }
   ],
   "source": [
    "#3. Write a program to find the maximum of two given numbers using conditional statements.\n",
    "def find_max(f, h):\n",
    "    if f > h:\n",
    "        return \"The maximum number is f.\"\n",
    "    elif h > f:\n",
    "        return \"The maximum number is h.\"\n",
    "    else:\n",
    "        return \"The numbers are equal.\"\n",
    "\n",
    "# Example usage:\n",
    "result = find_max(59, 18)\n",
    "print(result)\n"
   ]
  },
  {
   "cell_type": "code",
   "execution_count": 28,
   "id": "88f353a6-df68-43ae-a3dc-4c475909aca5",
   "metadata": {},
   "outputs": [
    {
     "name": "stdout",
     "output_type": "stream",
     "text": [
      "C\n"
     ]
    }
   ],
   "source": [
    "#4. Develop a program that calculates the grade of a student based on their exam score.\n",
    "def grade(score):\n",
    "    if 90 <= score <= 100:\n",
    "        return \"A\"\n",
    "    elif 80 <= score < 90:\n",
    "        return \"B\"\n",
    "    elif 70 <= score < 80:\n",
    "        return \"C\"\n",
    "    elif 60 <= score < 70:\n",
    "        return \"D\"\n",
    "    elif 0 <= score < 60:\n",
    "        return \"F\"\n",
    "    else:\n",
    "        return \"Invalid Score\"\n",
    "#    \n",
    "Exam_Grade = grade(70)\n",
    "print(Exam_Grade)    "
   ]
  },
  {
   "cell_type": "code",
   "execution_count": 36,
   "id": "2867ef1b-86be-4707-a210-e99701245aa7",
   "metadata": {},
   "outputs": [
    {
     "name": "stdout",
     "output_type": "stream",
     "text": [
      "True\n"
     ]
    }
   ],
   "source": [
    "#5. Create a program that checks if a year is a leap year or not.\n",
    "def check_leap_year(year):\n",
    "    if (year % 4 == 0 and year % 100 != 0) or (year % 400 == 0):\n",
    "        return True\n",
    "    else:\n",
    "        return False\n",
    "year= check_leap_year(2028)\n",
    "print(year)"
   ]
  },
  {
   "cell_type": "code",
   "execution_count": 38,
   "id": "50fc8d2b-2102-43ef-8814-0411742c6c68",
   "metadata": {},
   "outputs": [
    {
     "name": "stdout",
     "output_type": "stream",
     "text": [
      "The triangle is a Isosceles Triangle.\n"
     ]
    }
   ],
   "source": [
    "# 6. Write a program to classify a triangle based on its sides' lengths.\n",
    "def classify_triangle(side1, side2, side3):\n",
    "    if side1 == side2 == side3:\n",
    "        return \"Equilateral Triangle\"\n",
    "    elif side1 == side2 or side2 == side3 or side1 == side3:\n",
    "        return \"Isosceles Triangle\"\n",
    "    else:\n",
    "        return \"Scalene Triangle\"\n",
    "\n",
    "triangle_type = classify_triangle(10,10,8)\n",
    "print(f\"The triangle is a {triangle_type}.\")"
   ]
  },
  {
   "cell_type": "code",
   "execution_count": 40,
   "id": "f91af6a5-63d6-400f-8efa-351abac538f2",
   "metadata": {},
   "outputs": [
    {
     "data": {
      "text/plain": [
       "67"
      ]
     },
     "execution_count": 40,
     "metadata": {},
     "output_type": "execute_result"
    }
   ],
   "source": [
    "#7.Build a program that determines the largest of three given numbers. \n",
    "a=[30,55,67]\n",
    "max(a)"
   ]
  },
  {
   "cell_type": "code",
   "execution_count": 45,
   "id": "31fbe710-99a0-401e-981f-01aedaba7eb5",
   "metadata": {},
   "outputs": [
    {
     "name": "stdout",
     "output_type": "stream",
     "text": [
      "e is a vowel.\n"
     ]
    }
   ],
   "source": [
    "#8. Develop a program that checks whether a character is a vowel or a consonant.\n",
    "def check_vowel_or_consonant(char):\n",
    "    # Convert the character to lowercase for case-insensitivity\n",
    "    char_lower = char.lower()\n",
    "\n",
    "    # Check if the character is a vowel or a consonant\n",
    "    if char_lower in 'aeiou':\n",
    "        return f\"{char} is a vowel.\"\n",
    "    elif char_lower.isalpha():\n",
    "        return f\"{char} is a consonant.\"\n",
    "    else:\n",
    "        return f\"{char} is not a valid alphabet character.\"\n",
    "character_to_check = (\"e\")\n",
    "result = check_vowel_or_consonant(character_to_check)\n",
    "print(result)"
   ]
  },
  {
   "cell_type": "code",
   "execution_count": 52,
   "id": "2d0ddc87-40c5-4148-8f3d-016d5121f3ec",
   "metadata": {},
   "outputs": [
    {
     "name": "stdout",
     "output_type": "stream",
     "text": [
      "Total Cost before discount: Rs975\n",
      "Discount Rate: 20%\n",
      "Discounted Total Cost: Rs780.0\n"
     ]
    }
   ],
   "source": [
    "#9. Create a program to calculate the total cost of a shopping cart based on discounts.\n",
    "def shopping(items, discount):\n",
    "    total_cost_before_discount = sum(cart_items)\n",
    "    discount_amount = total_cost_before_discount * (discount_rate / 100)\n",
    "    discounted_total_cost = total_cost_before_discount - discount_amount\n",
    "    return discounted_total_cost\n",
    "cart_items = [900, 30, 20, 15, 10]\n",
    "discount_rate = 20  # 10% discount\n",
    "total_cost = shopping(cart_items, discount_rate)\n",
    "print(f\"Total Cost before discount: Rs{sum(cart_items)}\")\n",
    "print(f\"Discount Rate: {discount_rate}%\")\n",
    "print(f\"Discounted Total Cost: Rs{total_cost:}\")"
   ]
  },
  {
   "cell_type": "code",
   "execution_count": 72,
   "id": "9348daea-1685-47b6-8227-c9cae3089a99",
   "metadata": {},
   "outputs": [
    {
     "name": "stdout",
     "output_type": "stream",
     "text": [
      "even number\n"
     ]
    }
   ],
   "source": [
    "#10. Write a program that checks if a given number is even or odd.\n",
    "def even_odd(a):\n",
    "    if (a % 2==0):\n",
    "        return \"even number\"\n",
    "    else:\n",
    "        return \"odd number\"\n",
    "    \n",
    "check_num = even_odd(10)    \n",
    "print(check_num)"
   ]
  },
  {
   "cell_type": "code",
   "execution_count": 77,
   "id": "c2e03c0e-c7ce-45dd-b3bc-7b2dc50de282",
   "metadata": {},
   "outputs": [
    {
     "name": "stdout",
     "output_type": "stream",
     "text": [
      "The roots of the quadratic equation are: ((-0.5+0.5j), (-0.5-0.5j))\n"
     ]
    }
   ],
   "source": [
    "                                   #Intermediate Level:\n",
    "#11. Write a program that calculates the roots of a quadratic equation .\n",
    "import cmath\n",
    "def calculate_quadratic_roots(a, b, c):\n",
    "    # Calculate the discriminant\n",
    "    discriminant = cmath.sqrt(b**2 - 4*a*c)\n",
    "    # Calculate the roots using the quadratic formula\n",
    "    root1 = (-b + discriminant) / (2*a)\n",
    "    root2 = (-b - discriminant) / (2*a)\n",
    "    return root1, root2\n",
    "roots = calculate_quadratic_roots(2, 2, 1)\n",
    "# Display the result\n",
    "print(f\"The roots of the quadratic equation are: {roots}\")"
   ]
  },
  {
   "cell_type": "code",
   "execution_count": 84,
   "id": "be860ce7-5703-49c0-8401-9e300c282213",
   "metadata": {},
   "outputs": [
    {
     "name": "stdout",
     "output_type": "stream",
     "text": [
      "The day of the week for 5 is Thursday.\n"
     ]
    }
   ],
   "source": [
    "#12. Create a program that determines the day of the week based on the day number (1-7).\n",
    "def days(number):\n",
    "    days_of_week = [\"Sunday\", \"Monday\", \"Tuesday\", \"Wednesday\", \"Thursday\", \"Friday\", \"Saturday\"]\n",
    "    if 1 <= number <= 7:\n",
    "        return f\"The day of the week for {number} is {days_of_week[(number) - 1]}.\"\n",
    "    else:\n",
    "        return \"Invalid day number. Please enter a number between 1 and 7.\"\n",
    "result_day = days(5)\n",
    "# Display the result\n",
    "print(result_day)"
   ]
  },
  {
   "cell_type": "code",
   "execution_count": 91,
   "id": "ed7a14a4-295a-4151-97bb-d81e5245b7c2",
   "metadata": {},
   "outputs": [
    {
     "name": "stdout",
     "output_type": "stream",
     "text": [
      "120\n"
     ]
    }
   ],
   "source": [
    "#13. Develop a program that calculates the factorial of a given number using recursion.\n",
    "def fact(n):\n",
    "    if n==0:\n",
    "        return 1\n",
    "    else: \n",
    "        return n*fact(n-1)\n",
    "    \n",
    "result=fact(5)    \n",
    "print(result)"
   ]
  },
  {
   "cell_type": "code",
   "execution_count": 92,
   "id": "b8b7d7ae-fe1c-4c47-a8e1-fdcc9202e49d",
   "metadata": {},
   "outputs": [
    {
     "data": {
      "text/plain": [
       "99"
      ]
     },
     "execution_count": 92,
     "metadata": {},
     "output_type": "execute_result"
    }
   ],
   "source": [
    "#14. Write a program to find the largest among three numbers without using the `max()` function.\n",
    "(c)=(90,78,99)\n",
    "max(c)"
   ]
  },
  {
   "cell_type": "code",
   "execution_count": 3,
   "id": "80397ede-f07d-4e9b-9b1a-4e278e31ff25",
   "metadata": {},
   "outputs": [
    {
     "name": "stdout",
     "output_type": "stream",
     "text": [
      "===== ATM Transaction Menu =====\n",
      "1. Check Balance\n",
      "2. Deposit Money\n",
      "3. Withdraw Money\n",
      "4. Quit\n"
     ]
    },
    {
     "name": "stdin",
     "output_type": "stream",
     "text": [
      "Enter your choice (1-4):  2\n",
      "Enter the deposit amount: $ 400\n"
     ]
    },
    {
     "name": "stdout",
     "output_type": "stream",
     "text": [
      "$400.00 has been deposited. Your new balance is $1400.00\n",
      "===== ATM Transaction Menu =====\n",
      "1. Check Balance\n",
      "2. Deposit Money\n",
      "3. Withdraw Money\n",
      "4. Quit\n"
     ]
    },
    {
     "name": "stdin",
     "output_type": "stream",
     "text": [
      "Enter your choice (1-4):  1\n"
     ]
    },
    {
     "name": "stdout",
     "output_type": "stream",
     "text": [
      "Your current balance is $1400.00\n",
      "===== ATM Transaction Menu =====\n",
      "1. Check Balance\n",
      "2. Deposit Money\n",
      "3. Withdraw Money\n",
      "4. Quit\n"
     ]
    },
    {
     "name": "stdin",
     "output_type": "stream",
     "text": [
      "Enter your choice (1-4):  \n"
     ]
    },
    {
     "name": "stdout",
     "output_type": "stream",
     "text": [
      "Invalid choice. Please enter a number between 1 and 4.\n",
      "===== ATM Transaction Menu =====\n",
      "1. Check Balance\n",
      "2. Deposit Money\n",
      "3. Withdraw Money\n",
      "4. Quit\n"
     ]
    },
    {
     "name": "stdin",
     "output_type": "stream",
     "text": [
      "Enter your choice (1-4):  2\n",
      "Enter the deposit amount: $ 300\n"
     ]
    },
    {
     "name": "stdout",
     "output_type": "stream",
     "text": [
      "$300.00 has been deposited. Your new balance is $1700.00\n",
      "===== ATM Transaction Menu =====\n",
      "1. Check Balance\n",
      "2. Deposit Money\n",
      "3. Withdraw Money\n",
      "4. Quit\n"
     ]
    },
    {
     "name": "stdin",
     "output_type": "stream",
     "text": [
      "Enter your choice (1-4):  4\n"
     ]
    },
    {
     "name": "stdout",
     "output_type": "stream",
     "text": [
      "Thank you for using the ATM. Goodbye!\n"
     ]
    }
   ],
   "source": [
    "# 15. Create a program that simulates a basic ATM transaction menu.\n",
    "class ATM:\n",
    "    def __init__(self, balance=1000):\n",
    "        self.balance = balance\n",
    "\n",
    "    def display_menu(self):\n",
    "        print(\"===== ATM Transaction Menu =====\")\n",
    "        print(\"1. Check Balance\")\n",
    "        print(\"2. Deposit Money\")\n",
    "        print(\"3. Withdraw Money\")\n",
    "        print(\"4. Quit\")\n",
    "\n",
    "    def check_balance(self):\n",
    "        print(f\"Your current balance is ${self.balance:.2f}\")\n",
    "\n",
    "    def deposit_money(self, amount):\n",
    "        self.balance += amount\n",
    "        print(f\"${amount:.2f} has been deposited. Your new balance is ${self.balance:.2f}\")\n",
    "\n",
    "    def withdraw_money(self, amount):\n",
    "        if amount <= self.balance:\n",
    "            self.balance -= amount\n",
    "            print(f\"${amount:.2f} has been withdrawn. Your new balance is ${self.balance:.2f}\")\n",
    "        else:\n",
    "            print(\"Insufficient funds. Unable to withdraw.\")\n",
    "\n",
    "# Example: Simulate ATM transactions\n",
    "atm = ATM()\n",
    "\n",
    "while True:\n",
    "    atm.display_menu()\n",
    "\n",
    "    choice = input(\"Enter your choice (1-4): \")\n",
    "\n",
    "    if choice == '1':\n",
    "        atm.check_balance()\n",
    "    elif choice == '2':\n",
    "        deposit_amount = float(input(\"Enter the deposit amount: $\"))\n",
    "        atm.deposit_money(deposit_amount)\n",
    "    elif choice == '3':\n",
    "        withdraw_amount = float(input(\"Enter the withdrawal amount: $\"))\n",
    "        atm.withdraw_money(withdraw_amount)\n",
    "    elif choice == '4':\n",
    "        print(\"Thank you for using the ATM. Goodbye!\")\n",
    "        break\n",
    "    else:\n",
    "        print(\"Invalid choice. Please enter a number between 1 and 4.\")\n",
    "        "
   ]
  },
  {
   "cell_type": "code",
   "execution_count": 2,
   "id": "48637f06-502c-46c9-9273-98ac05519390",
   "metadata": {},
   "outputs": [
    {
     "name": "stdout",
     "output_type": "stream",
     "text": [
      "The average excluding the smallest and largest values is: 8.75\n"
     ]
    }
   ],
   "source": [
    "#17. Write a program that calculates the average of a list of numbers, excluding the smallest and largest values.\n",
    "def calculate_average_excluding_extremes(numbers):\n",
    "    if len(numbers) < 3:\n",
    "        return \"List should have at least three numbers for averaging.\"\n",
    "\n",
    "    # Exclude the smallest and largest values\n",
    "    sorted_numbers = sorted(numbers)\n",
    "    excluded_numbers = sorted_numbers[1:-1]\n",
    "    # Calculate the average\n",
    "    average = sum(excluded_numbers) / len(excluded_numbers)\n",
    "    return average\n",
    "# Example: Calculate the average of a list of numbers\n",
    "numbers = [10, 5, 8, 15, 3, 12]\n",
    "average_result = calculate_average_excluding_extremes(numbers)\n",
    "# Display the result\n",
    "print(f\"The average excluding the smallest and largest values is: {average_result:.2f}\")\n"
   ]
  },
  {
   "cell_type": "code",
   "execution_count": 1,
   "id": "5955fceb-8113-40ee-86f9-be15a2264121",
   "metadata": {},
   "outputs": [
    {
     "name": "stdout",
     "output_type": "stream",
     "text": [
      "50 degrees Celsius is equal to 122.00 degrees Fahrenheit.\n"
     ]
    }
   ],
   "source": [
    "#18. Develop a program that converts a given temperature from Celsius to Fahrenheit.\n",
    "def celsius_to_fahrenheit(celsius):\n",
    "    # Conversion formula: Fahrenheit = (Celsius * 9/5) + 32\n",
    "    fahrenheit = (celsius * 9/5) + 32\n",
    "    return fahrenheit\n",
    "\n",
    "# Example: Convert temperature from Celsius to Fahrenheit\n",
    "celsius_temperature = 50\n",
    "\n",
    "fahrenheit_result = celsius_to_fahrenheit(celsius_temperature)\n",
    "\n",
    "# Display the result\n",
    "print(f\"{celsius_temperature} degrees Celsius is equal to {fahrenheit_result:.2f} degrees Fahrenheit.\")\n"
   ]
  },
  {
   "cell_type": "code",
   "execution_count": 7,
   "id": "f4e74cad-9351-4c8a-bff6-e56ddeb7a89a",
   "metadata": {},
   "outputs": [
    {
     "name": "stdout",
     "output_type": "stream",
     "text": [
      "Please select operation -\n",
      "1. Add\n",
      "2. Subtract\n",
      "3. Multiply\n",
      "4. Divide\n",
      "\n"
     ]
    },
    {
     "name": "stdin",
     "output_type": "stream",
     "text": [
      "Select operations form 1, 2, 3, 4 : 2\n",
      "Enter first number:  10\n",
      "Enter second number:  1\n"
     ]
    },
    {
     "name": "stdout",
     "output_type": "stream",
     "text": [
      "10 - 1 = 9\n"
     ]
    }
   ],
   "source": [
    "#19. Create a program that simulates a basic calculator for addition, subtraction, multiplication, and division.\n",
    "# Python program for simple calculator\n",
    "\n",
    "# Function to add two numbers\n",
    "def add(num1, num2):\n",
    "\treturn num1 + num2\n",
    "\n",
    "# Function to subtract two numbers\n",
    "def subtract(num1, num2):\n",
    "\treturn num1 - num2\n",
    "\n",
    "# Function to multiply two numbers\n",
    "def multiply(num1, num2):\n",
    "\treturn num1 * num2\n",
    "\n",
    "# Function to divide two numbers\n",
    "def divide(num1, num2):\n",
    "\treturn num1 / num2\n",
    "\n",
    "print(\"Please select operation -\\n\" \\\n",
    "\t\t\"1. Add\\n\" \\\n",
    "\t\t\"2. Subtract\\n\" \\\n",
    "\t\t\"3. Multiply\\n\" \\\n",
    "\t\t\"4. Divide\\n\")\n",
    "\n",
    "\n",
    "# Take input from the user\n",
    "select = int(input(\"Select operations form 1, 2, 3, 4 :\"))\n",
    "\n",
    "number_1 = int(input(\"Enter first number: \"))\n",
    "number_2 = int(input(\"Enter second number: \"))\n",
    "\n",
    "if select == 1:\n",
    "\tprint(number_1, \"+\", number_2, \"=\",\n",
    "\t\t\t\t\tadd(number_1, number_2))\n",
    "\n",
    "elif select == 2:\n",
    "\tprint(number_1, \"-\", number_2, \"=\",\n",
    "\t\t\t\t\tsubtract(number_1, number_2))\n",
    "\n",
    "elif select == 3:\n",
    "\tprint(number_1, \"*\", number_2, \"=\",\n",
    "\t\t\t\t\tmultiply(number_1, number_2))\n",
    "\n",
    "elif select == 4:\n",
    "\tprint(number_1, \"/\", number_2, \"=\",\n",
    "\t\t\t\t\tdivide(number_1, number_2))\n",
    "else:\n",
    "\tprint(\"Invalid input\")\n",
    "\n"
   ]
  },
  {
   "cell_type": "code",
   "execution_count": 9,
   "id": "7f462769-cc6f-442a-8564-a50fc99aebf6",
   "metadata": {},
   "outputs": [
    {
     "name": "stdout",
     "output_type": "stream",
     "text": [
      "The roots of the cubic equation are: ((-1.5651977173836393+0j), (-0.6067137788439223+0.9584839385397173j), (-2.5236816559233564-0.9584839385397173j))\n"
     ]
    }
   ],
   "source": [
    "#20. Write a program that determines the roots of a cubic equation using the Cardano formula.\n",
    "import cmath  # Importing complex math module for handling complex roots\n",
    "def cubic_roots(a, b, c, d):\n",
    "    # Calculate intermediate values\n",
    "    delta_0 = b**2 - 3*a*c\n",
    "    delta_1 = 2*b**3 - 9*a*b*c + 27*a**2*d\n",
    "    C = (delta_1 + cmath.sqrt(delta_1**2 - 4*delta_0**3)) / 2\n",
    "    cube_root_C = C**(1/3)\n",
    "    # Calculate roots using Cardano's formula\n",
    "    root_1 = (-1/(3*a)) * (b + cube_root_C + delta_0/cube_root_C)\n",
    "    root_2 = (-1 + cmath.sqrt(3j)/2) / (3*a) * (b + cube_root_C + delta_0/cube_root_C)\n",
    "    root_3 = (-1 - cmath.sqrt(3j)/2) / (3*a) * (b + cube_root_C + delta_0/cube_root_C)\n",
    "    return root_1, root_2, root_3\n",
    "# Example: Solve cubic equation ax^3 + bx^2 + cx + d = 0\n",
    "a = 2\n",
    "b = 4\n",
    "c = 2\n",
    "d = 1\n",
    "roots = cubic_roots(a, b, c, d)\n",
    "# Display the roots\n",
    "print(f\"The roots of the cubic equation are: {roots}\")\n"
   ]
  },
  {
   "cell_type": "code",
   "execution_count": 26,
   "id": "42680160-c926-4d1b-bddb-3faae263fdee",
   "metadata": {},
   "outputs": [
    {
     "name": "stdout",
     "output_type": "stream",
     "text": [
      "400.0\n"
     ]
    }
   ],
   "source": [
    "                                       #Advanced Level:\n",
    "#21. Create a program that calculates the income tax based on the user's income and tax brackets.\n",
    "def calculate(amount, percent): \n",
    "    return (amount * percent) / 100\n",
    "  \n",
    "def calculate_income_tax(total_income:  \n",
    "                         float) -> float: \n",
    "  \n",
    "    if total_income <= 250000: \n",
    "        return 0\n",
    "    elif total_income <= 500000: \n",
    "        return calculate(total_income - \n",
    "                         250000, 5) \n",
    "    elif total_income <= 750000: \n",
    "        return calculate(total_income - \n",
    "                         500000, 10) + 12500\n",
    "    elif total_income <= 1000000: \n",
    "        return calculate(total_income - \n",
    "                         750000, 15) + 37500\n",
    "    elif total_income <= 1250000: \n",
    "        return calculate(total_income - \n",
    "                         1000000, 20) + 75000\n",
    "    elif total_income <= 1500000: \n",
    "        return calculate(total_income - \n",
    "                         1250000, 25) + 125000\n",
    "    else: \n",
    "        return calculate(total_income - \n",
    "                         1500000, 30) + 187500\n",
    "  \n",
    "  \n",
    "if __name__ == '__main__': \n",
    "    total_income = 258000\n",
    "    tax = calculate_income_tax(total_income) \n",
    "    print(tax) "
   ]
  },
  {
   "cell_type": "code",
   "execution_count": 4,
   "id": "02d0ed15-c2bd-4b69-9cda-3cb2fa7499b7",
   "metadata": {},
   "outputs": [
    {
     "name": "stdout",
     "output_type": "stream",
     "text": [
      "Welcome to Rock-Paper-Scissors Game!\n"
     ]
    },
    {
     "name": "stdin",
     "output_type": "stream",
     "text": [
      "Enter your choice (rock, paper, or scissors):  rock\n"
     ]
    },
    {
     "name": "stdout",
     "output_type": "stream",
     "text": [
      "\n",
      "You chose: rock\n",
      "Computer chose: scissors\n",
      "\n",
      "You win!\n"
     ]
    }
   ],
   "source": [
    "## 22. Write a program that simulates a rock-paper-scissors game against the computer.\n",
    "import random\n",
    "\n",
    "def get_user_choice():\n",
    "    user_choice = input(\"Enter your choice (rock, paper, or scissors): \").lower()\n",
    "    while user_choice not in [\"rock\", \"paper\", \"scissors\"]:\n",
    "        print(\"Invalid choice. Please enter rock, paper, or scissors.\")\n",
    "        user_choice = input(\"Enter your choice (rock, paper, or scissors): \").lower()\n",
    "    return user_choice\n",
    "\n",
    "def get_computer_choice():\n",
    "    return random.choice([\"rock\", \"paper\", \"scissors\"])\n",
    "\n",
    "def determine_winner(user_choice, computer_choice):\n",
    "    if user_choice == computer_choice:\n",
    "        return \"It's a tie!\"\n",
    "    elif (user_choice == \"rock\" and computer_choice == \"scissors\") or \\\n",
    "         (user_choice == \"paper\" and computer_choice == \"rock\") or \\\n",
    "         (user_choice == \"scissors\" and computer_choice == \"paper\"):\n",
    "        return \"You win!\"\n",
    "    else:\n",
    "        return \"Computer wins!\"\n",
    "\n",
    "def main():\n",
    "    print(\"Welcome to Rock-Paper-Scissors Game!\")\n",
    "    user_choice = get_user_choice()\n",
    "    computer_choice = get_computer_choice()\n",
    "\n",
    "    print(f\"\\nYou chose: {user_choice}\")\n",
    "    print(f\"Computer chose: {computer_choice}\\n\")\n",
    "\n",
    "    result = determine_winner(user_choice, computer_choice)\n",
    "    print(result)\n",
    "\n",
    "if __name__ == \"__main__\":\n",
    "    main()"
   ]
  },
  {
   "cell_type": "code",
   "execution_count": 6,
   "id": "00ff2266-28e1-4d9b-b9b5-8b275d8e1802",
   "metadata": {},
   "outputs": [
    {
     "name": "stdout",
     "output_type": "stream",
     "text": [
      "Password Generator\n"
     ]
    },
    {
     "name": "stdin",
     "output_type": "stream",
     "text": [
      "Enter the desired password length:  123\n",
      "Include uppercase letters? (yes/no):  no\n",
      "Include digits? (yes/no):  yes\n",
      "Include special characters? (yes/no):  pwskills\n"
     ]
    },
    {
     "name": "stdout",
     "output_type": "stream",
     "text": [
      "\n",
      "Generated Password: xig6uzqvij67bmyz5eii7dzk68w1mfdp8ufasyfqgtwsedjy1scf6m3pb4mjup7rw789zwyh33ia1089mbfr3wvhepb7nwq1qkzunznb3s4d0d1zfcugtuin48v\n"
     ]
    }
   ],
   "source": [
    "#23. Develop a program that generates a random password based on user preferences (length, complexity).\n",
    "import random\n",
    "import string\n",
    "\n",
    "def generate_password(length, use_uppercase, use_digits, use_special_chars):\n",
    "    chars = string.ascii_lowercase\n",
    "    if use_uppercase:\n",
    "        chars += string.ascii_uppercase\n",
    "    if use_digits:\n",
    "        chars += string.digits\n",
    "    if use_special_chars:\n",
    "        chars += string.punctuation\n",
    "\n",
    "    if length < 1 or not (use_uppercase or use_digits or use_special_chars):\n",
    "        print(\"Invalid parameters. Please choose a valid combination of length and complexity.\")\n",
    "        return None\n",
    "\n",
    "    password = ''.join(random.choice(chars) for _ in range(length))\n",
    "    return password\n",
    "\n",
    "def get_user_preferences():\n",
    "    print(\"Password Generator\")\n",
    "    length = int(input(\"Enter the desired password length: \"))\n",
    "    use_uppercase = input(\"Include uppercase letters? (yes/no): \").lower() == \"yes\"\n",
    "    use_digits = input(\"Include digits? (yes/no): \").lower() == \"yes\"\n",
    "    use_special_chars = input(\"Include special characters? (yes/no): \").lower() == \"yes\"\n",
    "    \n",
    "    return length, use_uppercase, use_digits, use_special_chars\n",
    "\n",
    "# Run the password generator\n",
    "length, use_uppercase, use_digits, use_special_chars = get_user_preferences()\n",
    "password = generate_password(length, use_uppercase, use_digits, use_special_chars)\n",
    "\n",
    "if password:\n",
    "    print(f\"\\nGenerated Password: {password}\")\n",
    "    "
   ]
  },
  {
   "cell_type": "code",
   "execution_count": 8,
   "id": "bb62dc16-ee15-4914-b8e5-be9cbbe55f9c",
   "metadata": {},
   "outputs": [
    {
     "name": "stdout",
     "output_type": "stream",
     "text": [
      "Welcome to the Adventure Game!\n",
      "You find yourself in a mysterious forest.\n",
      "Your choices will determine your fate. Good luck!\n",
      "\n",
      "You stand at the edge of a mysterious forest. What do you want to do?\n",
      "1. Enter the forest\n",
      "2. Leave and find another path\n"
     ]
    },
    {
     "name": "stdin",
     "output_type": "stream",
     "text": [
      "Enter the number of your choice:  1\n"
     ]
    },
    {
     "name": "stdout",
     "output_type": "stream",
     "text": [
      "You venture deeper into the forest.\n",
      "You come across a fork in the path. Which way do you go?\n",
      "1. Take the left path\n",
      "2. Take the right path\n"
     ]
    },
    {
     "name": "stdin",
     "output_type": "stream",
     "text": [
      "Enter the number of your choice:  2\n"
     ]
    },
    {
     "name": "stdout",
     "output_type": "stream",
     "text": [
      "You walk into a spider's web. It's a trap!\n",
      "Game over. You didn't make it out of the forest.\n"
     ]
    }
   ],
   "source": [
    "#24. Create a program that implements a simple text-based adventure game with branching scenarios.\n",
    "import time\n",
    "\n",
    "def intro():\n",
    "    print(\"Welcome to the Adventure Game!\")\n",
    "    time.sleep(1)\n",
    "    print(\"You find yourself in a mysterious forest.\")\n",
    "    time.sleep(1)\n",
    "    print(\"Your choices will determine your fate. Good luck!\\n\")\n",
    "\n",
    "def make_choice(question, options):\n",
    "    print(question)\n",
    "    for i, option in enumerate(options, start=1):\n",
    "        print(f\"{i}. {option}\")\n",
    "\n",
    "    while True:\n",
    "        try:\n",
    "            choice = int(input(\"Enter the number of your choice: \"))\n",
    "            if 1 <= choice <= len(options):\n",
    "                return choice\n",
    "            else:\n",
    "                print(\"Invalid choice. Please enter a valid number.\")\n",
    "        except ValueError:\n",
    "            print(\"Invalid input. Please enter a number.\")\n",
    "\n",
    "def forest_scenario():\n",
    "    print(\"You venture deeper into the forest.\")\n",
    "    time.sleep(1)\n",
    "    choice = make_choice(\n",
    "        \"You come across a fork in the path. Which way do you go?\",\n",
    "        [\"Take the left path\", \"Take the right path\"]\n",
    "    )\n",
    "\n",
    "    if choice == 1:\n",
    "        print(\"You encounter a friendly creature. It guides you to safety.\")\n",
    "        time.sleep(1)\n",
    "        print(\"Congratulations! You survived the forest.\")\n",
    "    else:\n",
    "        print(\"You walk into a spider's web. It's a trap!\")\n",
    "        time.sleep(1)\n",
    "        print(\"Game over. You didn't make it out of the forest.\")\n",
    "\n",
    "def start_game():\n",
    "    intro()\n",
    "    choice = make_choice(\n",
    "        \"You stand at the edge of a mysterious forest. What do you want to do?\",\n",
    "        [\"Enter the forest\", \"Leave and find another path\"]\n",
    "    )\n",
    "\n",
    "    if choice == 1:\n",
    "        forest_scenario()\n",
    "    else:\n",
    "        print(\"You choose to leave. The adventure ends here.\")\n",
    "\n",
    "# Run the adventure game\n",
    "start_game()\n"
   ]
  },
  {
   "cell_type": "code",
   "execution_count": 9,
   "id": "7aa3694f-886c-4e03-9c89-c3d922b494e9",
   "metadata": {},
   "outputs": [
    {
     "name": "stdout",
     "output_type": "stream",
     "text": [
      "Linear Equation Solver\n",
      "Enter a linear equation in the form 'ax + b = 0'\n",
      "\n"
     ]
    },
    {
     "name": "stdin",
     "output_type": "stream",
     "text": [
      "Enter the coefficient 'a':  2\n",
      "Enter the coefficient 'b':  2\n"
     ]
    },
    {
     "name": "stdout",
     "output_type": "stream",
     "text": [
      "\n",
      "Result:\n",
      "The solution to the linear equation 2.0x + 2.0 = 0 is x = -1.0\n"
     ]
    }
   ],
   "source": [
    "# 25. Build a program that solves a linear equation for x, considering different cases.\n",
    "def solve_linear_equation(a, b):\n",
    "    if a == 0:\n",
    "        if b == 0:\n",
    "            return \"Infinite solutions (Identity Equation)\"\n",
    "        else:\n",
    "            return \"No solution (Contradiction)\"\n",
    "    else:\n",
    "        x = -b / a\n",
    "        return f\"The solution to the linear equation {a}x + {b} = 0 is x = {x}\"\n",
    "\n",
    "def get_coefficients():\n",
    "    while True:\n",
    "        try:\n",
    "            a = float(input(\"Enter the coefficient 'a': \"))\n",
    "            b = float(input(\"Enter the coefficient 'b': \"))\n",
    "            return a, b\n",
    "        except ValueError:\n",
    "            print(\"Invalid input. Please enter numeric coefficients.\")\n",
    "\n",
    "def main():\n",
    "    print(\"Linear Equation Solver\")\n",
    "    print(\"Enter a linear equation in the form 'ax + b = 0'\\n\")\n",
    "\n",
    "    a, b = get_coefficients()\n",
    "    solution = solve_linear_equation(a, b)\n",
    "\n",
    "    print(\"\\nResult:\")\n",
    "    print(solution)\n",
    "\n",
    "if __name__ == \"__main__\":\n",
    "    main()\n"
   ]
  },
  {
   "cell_type": "code",
   "execution_count": 10,
   "id": "708bee80-2b2f-4671-86f4-4b75d04b74a7",
   "metadata": {},
   "outputs": [
    {
     "name": "stdout",
     "output_type": "stream",
     "text": [
      "Welcome to the Quiz Game!\n",
      "\n",
      "What is the capital of France?\n",
      "1. Paris\n",
      "2. Berlin\n",
      "3. London\n",
      "4. Rome\n",
      "\n"
     ]
    },
    {
     "name": "stdin",
     "output_type": "stream",
     "text": [
      "Enter the number of your answer:  1\n"
     ]
    },
    {
     "name": "stdout",
     "output_type": "stream",
     "text": [
      "Correct!\n",
      "\n",
      "Which planet is known as the Red Planet?\n",
      "1. Venus\n",
      "2. Mars\n",
      "3. Jupiter\n",
      "4. Saturn\n",
      "\n"
     ]
    },
    {
     "name": "stdin",
     "output_type": "stream",
     "text": [
      "Enter the number of your answer:  1\n"
     ]
    },
    {
     "name": "stdout",
     "output_type": "stream",
     "text": [
      "Wrong! The correct answer is 2. \n",
      "\n",
      "What is the largest mammal on Earth?\n",
      "1. Elephant\n",
      "2. Blue Whale\n",
      "3. Giraffe\n",
      "4. Hippopotamus\n",
      "\n"
     ]
    },
    {
     "name": "stdin",
     "output_type": "stream",
     "text": [
      "Enter the number of your answer:  2\n"
     ]
    },
    {
     "name": "stdout",
     "output_type": "stream",
     "text": [
      "Correct!\n",
      "\n",
      "Quiz completed! Your score: 2/3\n"
     ]
    }
   ],
   "source": [
    "#26. Write a program that simulates a basic quiz game with multiple-choice questions and scoring.\n",
    "import time\n",
    "\n",
    "def print_question(question, options):\n",
    "    print(question)\n",
    "    for i, option in enumerate(options, start=1):\n",
    "        print(f\"{i}. {option}\")\n",
    "    print()\n",
    "\n",
    "def get_user_answer(options):\n",
    "    while True:\n",
    "        try:\n",
    "            choice = int(input(\"Enter the number of your answer: \"))\n",
    "            if 1 <= choice <= len(options):\n",
    "                return choice\n",
    "            else:\n",
    "                print(\"Invalid choice. Please enter a valid number.\")\n",
    "        except ValueError:\n",
    "            print(\"Invalid input. Please enter a number.\")\n",
    "\n",
    "def run_quiz(quiz):\n",
    "    score = 0\n",
    "    total_questions = len(quiz)\n",
    "\n",
    "    print(\"Welcome to the Quiz Game!\\n\")\n",
    "    time.sleep(1)\n",
    "\n",
    "    for question, options, correct_answer in quiz:\n",
    "        print_question(question, options)\n",
    "        user_answer = get_user_answer(options)\n",
    "\n",
    "        if user_answer == correct_answer:\n",
    "            print(\"Correct!\\n\")\n",
    "            score += 1\n",
    "        else:\n",
    "            print(f\"Wrong! The correct answer is {correct_answer}. \\n\")\n",
    "\n",
    "        time.sleep(1)\n",
    "\n",
    "    print(f\"Quiz completed! Your score: {score}/{total_questions}\")\n",
    "\n",
    "# Example Quiz\n",
    "example_quiz = [\n",
    "    (\"What is the capital of France?\", [\"Paris\", \"Berlin\", \"London\", \"Rome\"], 1),\n",
    "    (\"Which planet is known as the Red Planet?\", [\"Venus\", \"Mars\", \"Jupiter\", \"Saturn\"], 2),\n",
    "    (\"What is the largest mammal on Earth?\", [\"Elephant\", \"Blue Whale\", \"Giraffe\", \"Hippopotamus\"], 2),\n",
    "    # Add more questions as needed\n",
    "]\n",
    "\n",
    "# Run the quiz\n",
    "run_quiz(example_quiz)\n"
   ]
  },
  {
   "cell_type": "code",
   "execution_count": 12,
   "id": "0ff47f84-6d91-4983-b08f-25c9939cb98b",
   "metadata": {},
   "outputs": [
    {
     "name": "stdout",
     "output_type": "stream",
     "text": [
      "Prime Year Checker\n"
     ]
    },
    {
     "name": "stdin",
     "output_type": "stream",
     "text": [
      "Enter a year to check if it's prime:  2234\n"
     ]
    },
    {
     "name": "stdout",
     "output_type": "stream",
     "text": [
      "2234 is not a prime year.\n"
     ]
    }
   ],
   "source": [
    "#27. Develop a program that determines whether a given year is a prime number or not.\n",
    "def is_prime(year):\n",
    "    if year < 2:\n",
    "        return False\n",
    "    for i in range(2, int(year**0.5) + 1):\n",
    "        if year % i == 0:\n",
    "            return False\n",
    "    return True\n",
    "\n",
    "def get_user_input():\n",
    "    while True:\n",
    "        try:\n",
    "            year = int(input(\"Enter a year to check if it's prime: \"))\n",
    "            return year\n",
    "        except ValueError:\n",
    "            print(\"Invalid input. Please enter a valid integer.\")\n",
    "\n",
    "def main():\n",
    "    print(\"Prime Year Checker\")\n",
    "    year = get_user_input()\n",
    "\n",
    "    if is_prime(year):\n",
    "        print(f\"{year} is a prime year!\")\n",
    "    else:\n",
    "        print(f\"{year} is not a prime year.\")\n",
    "\n",
    "if __name__ == \"__main__\":\n",
    "    main()\n"
   ]
  },
  {
   "cell_type": "code",
   "execution_count": 19,
   "id": "dbe368e7-6a68-4452-b5de-bb0b1d2c85e9",
   "metadata": {},
   "outputs": [
    {
     "name": "stdout",
     "output_type": "stream",
     "text": [
      "Number Sorter\n",
      "Sorted Numbers: (25, 55, 90)\n"
     ]
    }
   ],
   "source": [
    "#28. Create a program that sorts three numbers in ascending order using conditional statements.\n",
    "def sort_numbers(num1, num2, num3):\n",
    "    if num1 <= num2 <= num3:\n",
    "        return num1, num2, num3\n",
    "    elif num1 <= num3 <= num2:\n",
    "        return num1, num3, num2\n",
    "    elif num2 <= num1 <= num3:\n",
    "        return num2, num1, num3\n",
    "    elif num2 <= num3 <= num1:\n",
    "        return num2, num3, num1\n",
    "    elif num3 <= num1 <= num2:\n",
    "        return num3, num1, num2\n",
    "    else:\n",
    "        return num3, num2, num1\n",
    "\n",
    "def get_user_input():\n",
    "    while True:\n",
    "        try:\n",
    "            num1 = 90\n",
    "            num2 = 25\n",
    "            num3 = 55\n",
    "            return num1, num2, num3\n",
    "        except ValueError:\n",
    "            print(\"Invalid input. Please enter valid numbers.\")\n",
    "\n",
    "def main():\n",
    "    print(\"Number Sorter\")\n",
    "    num1, num2, num3 = get_user_input()\n",
    "\n",
    "    sorted_numbers = sort_numbers(num1, num2, num3)\n",
    "\n",
    "    print(\"Sorted Numbers:\", sorted_numbers)\n",
    "\n",
    "if __name__ == \"__main__\":\n",
    "    main()\n"
   ]
  },
  {
   "cell_type": "code",
   "execution_count": 21,
   "id": "abc0ccd3-0bc7-4d9a-8e64-6648b7a35ca6",
   "metadata": {},
   "outputs": [
    {
     "name": "stdout",
     "output_type": "stream",
     "text": [
      "Roots are real and different \n",
      "4.0\n",
      "3.0\n"
     ]
    }
   ],
   "source": [
    "#29. Build a program that determines the roots of a quartic equation using numerical methods.\n",
    "import math\n",
    " \n",
    "# Prints roots of quadratic equation\n",
    "# ax*2 + bx + x\n",
    "def findRoots(a, b, c):\n",
    " \n",
    "    # If a is 0, then equation is\n",
    "    # not quadratic, but linear\n",
    "    if a == 0:\n",
    "        print(\"Invalid\")\n",
    "        return -1\n",
    "    d = b * b - 4 * a * c\n",
    "    sqrt_val = math.sqrt(abs(d))\n",
    " \n",
    "    if d > 0:\n",
    "        print(\"Roots are real and different \")\n",
    "        print((-b + sqrt_val)/(2 * a))\n",
    "        print((-b - sqrt_val)/(2 * a))\n",
    "    elif d == 0:\n",
    "        print(\"Roots are real and same\")\n",
    "        print(-b / (2*a))\n",
    "    else:  # d<0\n",
    "        print(\"Roots are complex\")\n",
    "        print(- b / (2*a), \" + i\", sqrt_val / (2 * a))\n",
    "        print(- b / (2*a), \" - i\", sqrt_val / (2 * a))\n",
    " \n",
    " \n",
    "# Driver Program\n",
    "if __name__ == '__main__':\n",
    "    a = 1\n",
    "    b = -7\n",
    "    c = 12\n",
    "     \n",
    "    # Function call\n",
    "    findRoots(a, b, c)"
   ]
  },
  {
   "cell_type": "code",
   "execution_count": 23,
   "id": "b490a5ea-a514-4ab4-bf54-8a7c2169471d",
   "metadata": {},
   "outputs": [
    {
     "name": "stdout",
     "output_type": "stream",
     "text": [
      "The BMI is 21.64532402096181 so Healthy\n"
     ]
    }
   ],
   "source": [
    "#30. Write a program that calculates the BMI (Body Mass Index) and provides health recommendations based on the user's input.\n",
    "def BMI(height, weight): \n",
    "    bmi = weight/(height**2) \n",
    "    return bmi \n",
    "  \n",
    "# Driver code \n",
    "height = 1.79832\n",
    "weight = 70\n",
    "  \n",
    "# calling the BMI function \n",
    "bmi = BMI(height, weight) \n",
    "print(\"The BMI is\", format(bmi), \"so \", end='') \n",
    "  \n",
    "# Conditions to find out BMI category \n",
    "if (bmi < 18.5): \n",
    "    print(\"underweight\") \n",
    "  \n",
    "elif ( bmi >= 18.5 and bmi < 24.9): \n",
    "    print(\"Healthy\") \n",
    "  \n",
    "elif ( bmi >= 24.9 and bmi < 30): \n",
    "    print(\"overweight\") \n",
    "  \n",
    "elif ( bmi >=30): \n",
    "    print(\"Suffering from Obesity\") \n",
    "    "
   ]
  },
  {
   "cell_type": "code",
   "execution_count": 30,
   "id": "60207c2c-0622-4123-932f-d662f9ea44d6",
   "metadata": {},
   "outputs": [
    {
     "name": "stdout",
     "output_type": "stream",
     "text": [
      "Valid Password\n"
     ]
    }
   ],
   "source": [
    "                                                                  #Challenge Level\n",
    "#31. Create a program that validates a password based on complexity rules (length, characters, etc.)\n",
    "import re\n",
    "password = \"p2S_kill@\"\n",
    "flag = 0\n",
    "while True:\n",
    "    if (len(password)<=8):\n",
    "        flag = -1\n",
    "        break\n",
    "    elif not re.search(\"[a-z]\", password):\n",
    "        flag = -1\n",
    "        break\n",
    "    elif not re.search(\"[A-Z]\", password):\n",
    "        flag = -1\n",
    "        break\n",
    "    elif not re.search(\"[0-9]\", password):\n",
    "        flag = -1\n",
    "        break\n",
    "    elif not re.search(\"[_@$]\" , password):\n",
    "        flag = -1\n",
    "        break\n",
    "    elif re.search(\"\\s\" , password):\n",
    "        flag = -1\n",
    "        break\n",
    "    else:\n",
    "        flag = 0\n",
    "        print(\"Valid Password\")\n",
    "        break\n",
    " \n",
    "if flag == -1:\n",
    "    print(\"Not a Valid Password \")\n"
   ]
  },
  {
   "cell_type": "code",
   "execution_count": 32,
   "id": "80f6122c-1180-4f3a-ba80-a87cc2895892",
   "metadata": {},
   "outputs": [
    {
     "name": "stdout",
     "output_type": "stream",
     "text": [
      "Printing elements of first matrix\n",
      "[[1 2]\n",
      " [3 4]]\n",
      "Printing elements of second matrix\n",
      "[[4 5]\n",
      " [6 7]]\n",
      "Addition of two matrix\n",
      "[[ 5  7]\n",
      " [ 9 11]]\n"
     ]
    }
   ],
   "source": [
    "#32. Develop a program that performs matrix addition and subtraction based on user input.\n",
    "import numpy as np \n",
    "# creating first matrix\n",
    "A = np.array([[1, 2], [3, 4]])\n",
    " \n",
    "# creating second matrix\n",
    "B = np.array([[4, 5], [6, 7]])\n",
    " \n",
    "print(\"Printing elements of first matrix\")\n",
    "print(A)\n",
    "print(\"Printing elements of second matrix\")\n",
    "print(B)\n",
    "# adding two matrix\n",
    "print(\"Addition of two matrix\")\n",
    "print(np.add(A, B))\n"
   ]
  },
  {
   "cell_type": "code",
   "execution_count": 35,
   "id": "19e65b7f-3114-41b1-93dd-692bec7c562f",
   "metadata": {},
   "outputs": [
    {
     "name": "stdout",
     "output_type": "stream",
     "text": [
      "gcd( 2 , 8 ) =  2\n",
      "gcd( 90 , 10 ) =  10\n",
      "gcd( 68 , 45 ) =  1\n"
     ]
    }
   ],
   "source": [
    "#33. Write a program that calculates the greatest common divisor (GCD) of two numbers using the Euclidean algorithm.\n",
    "# Function to return gcd of a and b\n",
    "def gcd(a, b):\n",
    "    if a == 0:\n",
    "        return b\n",
    " \n",
    "    return gcd(b % a, a)\n",
    " \n",
    "# Driver code\n",
    "if __name__ == \"__main__\":\n",
    "  a = 2\n",
    "  b = 8\n",
    "  print(\"gcd(\", a, \",\", b, \") = \", gcd(a, b))\n",
    " \n",
    "  a = 90\n",
    "  b = 10\n",
    "  print(\"gcd(\", a, \",\", b, \") = \", gcd(a, b))\n",
    " \n",
    "  a = 68\n",
    "  b = 45\n",
    "  print(\"gcd(\", a, \",\", b, \") = \", gcd(a, b))\n",
    " "
   ]
  },
  {
   "cell_type": "code",
   "execution_count": 38,
   "id": "e4437192-8039-4d82-afae-0de01dc7f875",
   "metadata": {},
   "outputs": [
    {
     "name": "stdout",
     "output_type": "stream",
     "text": [
      "Matrix Multiplication Program\n",
      "Enter details for the first matrix:\n"
     ]
    },
    {
     "name": "stdin",
     "output_type": "stream",
     "text": [
      "Enter the element at position (1, 1):  1\n",
      "Enter the element at position (1, 2):  2\n",
      "Enter the element at position (2, 1):  1\n",
      "Enter the element at position (2, 2):  2\n"
     ]
    },
    {
     "name": "stdout",
     "output_type": "stream",
     "text": [
      "\n",
      "Enter details for the second matrix:\n"
     ]
    },
    {
     "name": "stdin",
     "output_type": "stream",
     "text": [
      "Enter the element at position (1, 1):  1\n",
      "Enter the element at position (1, 2):  2\n",
      "Enter the element at position (2, 1):  1\n",
      "Enter the element at position (2, 2):  2\n"
     ]
    },
    {
     "name": "stdout",
     "output_type": "stream",
     "text": [
      "\n",
      "Resultant Matrix:\n",
      "[3.0, 6.0]\n",
      "[3.0, 6.0]\n"
     ]
    }
   ],
   "source": [
    "#34. Build a program that performs matrix multiplication using nested loops and conditional statements.\n",
    "def matrix_multiply(matrix1, matrix2):\n",
    "    \"\"\"\n",
    "    Perform matrix multiplication of two matrices.\n",
    "    \"\"\"\n",
    "    rows1, cols1 = len(matrix1), len(matrix1[0])\n",
    "    rows2, cols2 = len(matrix2), len(matrix2[0])\n",
    "\n",
    "    # Check if matrix multiplication is possible\n",
    "    if cols1 != rows2:\n",
    "        print(\"Matrix multiplication is not possible. Number of columns in the first matrix must be equal to the number of rows in the second matrix.\")\n",
    "        return None\n",
    "\n",
    "    # Initialize result matrix with zeros\n",
    "    result_matrix = [[0 for _ in range(cols2)] for _ in range(rows1)]\n",
    "\n",
    "    # Perform matrix multiplication\n",
    "    for i in range(rows1):\n",
    "        for j in range(cols2):\n",
    "            for k in range(cols1):\n",
    "                result_matrix[i][j] += matrix1[i][k] * matrix2[k][j]\n",
    "\n",
    "    return result_matrix\n",
    "\n",
    "def print_matrix(matrix):\n",
    "    \"\"\"\n",
    "    Print a matrix.\n",
    "    \"\"\"\n",
    "    for row in matrix:\n",
    "        print(row)\n",
    "\n",
    "def get_matrix_input():\n",
    "    \"\"\"\n",
    "    Get user input for a matrix.\n",
    "    \"\"\"\n",
    "    try:\n",
    "        rows = 2\n",
    "        cols = 2\n",
    "        matrix = []\n",
    "        for i in range(rows):\n",
    "            row = []\n",
    "            for j in range(cols):\n",
    "                value = float(input(f\"Enter the element at position ({i + 1}, {j + 1}): \"))\n",
    "                row.append(value)\n",
    "            matrix.append(row)\n",
    "        return matrix\n",
    "    except ValueError:\n",
    "        print(\"Invalid input. Please enter valid numerical values.\")\n",
    "        return get_matrix_input()\n",
    "\n",
    "def main():\n",
    "    print(\"Matrix Multiplication Program\")\n",
    "\n",
    "    print(\"Enter details for the first matrix:\")\n",
    "    matrix1 = get_matrix_input()\n",
    "\n",
    "    print(\"\\nEnter details for the second matrix:\")\n",
    "    matrix2 = get_matrix_input()\n",
    "\n",
    "    result_matrix = matrix_multiply(matrix1, matrix2)\n",
    "\n",
    "    if result_matrix is not None:\n",
    "        print(\"\\nResultant Matrix:\")\n",
    "        print_matrix(result_matrix)\n",
    "\n",
    "if __name__ == \"__main__\":\n",
    "    main()\n"
   ]
  },
  {
   "cell_type": "code",
   "execution_count": 41,
   "id": "fc55e42e-a7d8-4105-979b-73f374cbb9cd",
   "metadata": {},
   "outputs": [
    {
     "name": "stdout",
     "output_type": "stream",
     "text": [
      "- | - | -\n",
      "- | - | -\n",
      "- | - | -\n",
      "X's turn.\n"
     ]
    },
    {
     "name": "stdin",
     "output_type": "stream",
     "text": [
      "Choose a position from 1-9:  1\n"
     ]
    },
    {
     "name": "stdout",
     "output_type": "stream",
     "text": [
      "X | - | -\n",
      "- | - | -\n",
      "- | - | -\n",
      "O's turn.\n"
     ]
    },
    {
     "name": "stdin",
     "output_type": "stream",
     "text": [
      "Choose a position from 1-9:  2\n"
     ]
    },
    {
     "name": "stdout",
     "output_type": "stream",
     "text": [
      "X | O | -\n",
      "- | - | -\n",
      "- | - | -\n",
      "X's turn.\n"
     ]
    },
    {
     "name": "stdin",
     "output_type": "stream",
     "text": [
      "Choose a position from 1-9:  3\n"
     ]
    },
    {
     "name": "stdout",
     "output_type": "stream",
     "text": [
      "X | O | X\n",
      "- | - | -\n",
      "- | - | -\n",
      "O's turn.\n"
     ]
    },
    {
     "name": "stdin",
     "output_type": "stream",
     "text": [
      "Choose a position from 1-9:  4\n"
     ]
    },
    {
     "name": "stdout",
     "output_type": "stream",
     "text": [
      "X | O | X\n",
      "O | - | -\n",
      "- | - | -\n",
      "X's turn.\n"
     ]
    },
    {
     "name": "stdin",
     "output_type": "stream",
     "text": [
      "Choose a position from 1-9:  5\n"
     ]
    },
    {
     "name": "stdout",
     "output_type": "stream",
     "text": [
      "X | O | X\n",
      "O | X | -\n",
      "- | - | -\n",
      "O's turn.\n"
     ]
    },
    {
     "name": "stdin",
     "output_type": "stream",
     "text": [
      "Choose a position from 1-9:  6\n"
     ]
    },
    {
     "name": "stdout",
     "output_type": "stream",
     "text": [
      "X | O | X\n",
      "O | X | O\n",
      "- | - | -\n",
      "X's turn.\n"
     ]
    },
    {
     "name": "stdin",
     "output_type": "stream",
     "text": [
      "Choose a position from 1-9:  7\n"
     ]
    },
    {
     "name": "stdout",
     "output_type": "stream",
     "text": [
      "X | O | X\n",
      "O | X | O\n",
      "X | - | -\n",
      "X wins!\n"
     ]
    }
   ],
   "source": [
    "#35. Create a program that simulates a basic text-based tic-tac-toe game against the computer.\n",
    "# Set up the game board as a list\n",
    "board = [\"-\", \"-\", \"-\",\n",
    "         \"-\", \"-\", \"-\",\n",
    "         \"-\", \"-\", \"-\"]\n",
    " \n",
    "# Define a function to print the game board\n",
    "def print_board():\n",
    "    print(board[0] + \" | \" + board[1] + \" | \" + board[2])\n",
    "    print(board[3] + \" | \" + board[4] + \" | \" + board[5])\n",
    "    print(board[6] + \" | \" + board[7] + \" | \" + board[8])\n",
    " \n",
    "# Define a function to handle a player's turn\n",
    "def take_turn(player):\n",
    "    print(player + \"'s turn.\")\n",
    "    position = input(\"Choose a position from 1-9: \")\n",
    "    while position not in [\"1\", \"2\", \"3\", \"4\", \"5\", \"6\", \"7\", \"8\", \"9\"]:\n",
    "        position = input(\"Invalid input. Choose a position from 1-9: \")\n",
    "    position = int(position) - 1\n",
    "    while board[position] != \"-\":\n",
    "        position = int(input(\"Position already taken. Choose a different position: \")) - 1\n",
    "    board[position] = player\n",
    "    print_board()\n",
    " \n",
    "# Define a function to check if the game is over\n",
    "def check_game_over():\n",
    "    # Check for a win\n",
    "    if (board[0] == board[1] == board[2] != \"-\") or \\\n",
    "       (board[3] == board[4] == board[5] != \"-\") or \\\n",
    "       (board[6] == board[7] == board[8] != \"-\") or \\\n",
    "       (board[0] == board[3] == board[6] != \"-\") or \\\n",
    "       (board[1] == board[4] == board[7] != \"-\") or \\\n",
    "       (board[2] == board[5] == board[8] != \"-\") or \\\n",
    "       (board[0] == board[4] == board[8] != \"-\") or \\\n",
    "       (board[2] == board[4] == board[6] != \"-\"):\n",
    "        return \"win\"\n",
    "    # Check for a tie\n",
    "    elif \"-\" not in board:\n",
    "        return \"tie\"\n",
    "    # Game is not over\n",
    "    else:\n",
    "        return \"play\"\n",
    " \n",
    "# Define the main game loop\n",
    "def play_game():\n",
    "    print_board()\n",
    "    current_player = \"X\"\n",
    "    game_over = False\n",
    "    while not game_over:\n",
    "        take_turn(current_player)\n",
    "        game_result = check_game_over()\n",
    "        if game_result == \"win\":\n",
    "            print(current_player + \" wins!\")\n",
    "            game_over = True\n",
    "        elif game_result == \"tie\":\n",
    "            print(\"It's a tie!\")\n",
    "            game_over = True\n",
    "        else:\n",
    "            # Switch to the other player\n",
    "            current_player = \"O\" if current_player == \"X\" else \"X\"\n",
    " \n",
    "# Start the game\n",
    "play_game()\n"
   ]
  },
  {
   "cell_type": "code",
   "execution_count": 44,
   "id": "6e46bc97-4a0e-46db-abc4-83e909e70fe2",
   "metadata": {},
   "outputs": [
    {
     "name": "stdout",
     "output_type": "stream",
     "text": [
      "Fibonacci Number Generator (Iterative)\n"
     ]
    },
    {
     "name": "stdin",
     "output_type": "stream",
     "text": [
      "Enter the number of terms in the Fibonacci sequence:  5\n"
     ]
    },
    {
     "name": "stdout",
     "output_type": "stream",
     "text": [
      "\n",
      "Fibonacci Sequence up to term 5:\n",
      "[0, 1, 1, 2, 3]\n"
     ]
    }
   ],
   "source": [
    "#36. Write a program that generates Fibonacci numbers up to a specified term using iterative methods.\n",
    "def generate_fibonacci(n):\n",
    "    \"\"\"\n",
    "    Generate Fibonacci numbers up to the specified term using iterative methods.\n",
    "    \"\"\"\n",
    "    fibonacci_sequence = [0, 1]\n",
    "\n",
    "    for _ in range(2, n):\n",
    "        next_term = fibonacci_sequence[-1] + fibonacci_sequence[-2]\n",
    "        fibonacci_sequence.append(next_term)\n",
    "\n",
    "    return fibonacci_sequence\n",
    "\n",
    "def get_user_input():\n",
    "    \"\"\"\n",
    "    Get user input for the number of terms in the Fibonacci sequence.\n",
    "    \"\"\"\n",
    "    try:\n",
    "        n = int(input(\"Enter the number of terms in the Fibonacci sequence: \"))\n",
    "        return n\n",
    "    except ValueError:\n",
    "        print(\"Invalid input. Please enter a valid numerical value.\")\n",
    "        return get_user_input()\n",
    "\n",
    "def main():\n",
    "    print(\"Fibonacci Number Generator (Iterative)\")\n",
    "\n",
    "    n = get_user_input()\n",
    "\n",
    "    fibonacci_sequence = generate_fibonacci(n)\n",
    "\n",
    "    print(f\"\\nFibonacci Sequence up to term {n}:\")\n",
    "    print(fibonacci_sequence)\n",
    "\n",
    "if __name__ == \"__main__\":\n",
    "    main()\n",
    "\n"
   ]
  },
  {
   "cell_type": "code",
   "execution_count": 47,
   "id": "c88b063d-44b3-4673-bbea-cd4b065d0a87",
   "metadata": {},
   "outputs": [
    {
     "name": "stdout",
     "output_type": "stream",
     "text": [
      "Fibonacci Term Calculator with Memoization\n"
     ]
    },
    {
     "name": "stdin",
     "output_type": "stream",
     "text": [
      "Enter the term (n) in the Fibonacci sequence:  4\n"
     ]
    },
    {
     "name": "stdout",
     "output_type": "stream",
     "text": [
      "\n",
      "The 4th term of the Fibonacci sequence is: 3\n"
     ]
    }
   ],
   "source": [
    "#37. Develop a program that calculates the nth term of the Fibonacci sequence using memoization.\n",
    "def fibonacci_memo(n, memo={}):\n",
    "    \"\"\"\n",
    "    Calculate the nth term of the Fibonacci sequence using memoization.\n",
    "    \"\"\"\n",
    "    if n in memo:\n",
    "        return memo[n]\n",
    "\n",
    "    if n <= 1:\n",
    "        result = n\n",
    "    else:\n",
    "        result = fibonacci_memo(n - 1, memo) + fibonacci_memo(n - 2, memo)\n",
    "\n",
    "    memo[n] = result\n",
    "    return result\n",
    "\n",
    "def get_user_input():\n",
    "    \"\"\"\n",
    "    Get user input for the term (n) in the Fibonacci sequence.\n",
    "    \"\"\"\n",
    "    try:\n",
    "        n = int(input(\"Enter the term (n) in the Fibonacci sequence: \"))\n",
    "        if n < 0:\n",
    "            print(\"Invalid input. Please enter a non-negative integer.\")\n",
    "            return get_user_input()\n",
    "        return n\n",
    "    except ValueError:\n",
    "        print(\"Invalid input. Please enter a valid numerical value.\")\n",
    "        return get_user_input()\n",
    "\n",
    "def main():\n",
    "    print(\"Fibonacci Term Calculator with Memoization\")\n",
    "\n",
    "    n = get_user_input()\n",
    "\n",
    "    fibonacci_term = fibonacci_memo(n)\n",
    "\n",
    "    print(f\"\\nThe {n}th term of the Fibonacci sequence is: {fibonacci_term}\")\n",
    "\n",
    "if __name__ == \"__main__\":\n",
    "    main()\n"
   ]
  },
  {
   "cell_type": "code",
   "execution_count": 50,
   "id": "917152cf-137a-4e35-9c2c-388ab74c9879",
   "metadata": {},
   "outputs": [
    {
     "name": "stdout",
     "output_type": "stream",
     "text": [
      "Calendar Generator\n"
     ]
    },
    {
     "name": "stdin",
     "output_type": "stream",
     "text": [
      "Enter the year:  2023\n",
      "Enter the month (1-12):  12\n"
     ]
    },
    {
     "name": "stdout",
     "output_type": "stream",
     "text": [
      "\n",
      "Calendar for December 2023:\n",
      "\n",
      "[0, 0, 0, 0, 1, 2, 3]\n",
      "[4, 5, 6, 7, 8, 9, 10]\n",
      "[11, 12, 13, 14, 15, 16, 17]\n",
      "[18, 19, 20, 21, 22, 23, 24]\n",
      "[25, 26, 27, 28, 29, 30, 31]\n"
     ]
    }
   ],
   "source": [
    "#38. Create a program that generates a calendar for a given month and year using conditional statements.\n",
    "import calendar\n",
    "\n",
    "def generate_calendar(year, month):\n",
    "    \"\"\"\n",
    "    Generate a calendar for the given month and year.\n",
    "    \"\"\"\n",
    "    cal = calendar.monthcalendar(year, month)\n",
    "    return cal\n",
    "\n",
    "def get_user_input():\n",
    "    \"\"\"\n",
    "    Get user input for the year and month.\n",
    "    \"\"\"\n",
    "    try:\n",
    "        year = int(input(\"Enter the year: \"))\n",
    "        month = int(input(\"Enter the month (1-12): \"))\n",
    "        if not (1 <= month <= 12):\n",
    "            print(\"Invalid month. Please enter a value between 1 and 12.\")\n",
    "            return get_user_input()\n",
    "        return year, month\n",
    "    except ValueError:\n",
    "        print(\"Invalid input. Please enter valid numerical values.\")\n",
    "        return get_user_input()\n",
    "\n",
    "def main():\n",
    "    print(\"Calendar Generator\")\n",
    "\n",
    "    year, month = get_user_input()\n",
    "\n",
    "    cal = generate_calendar(year, month)\n",
    "\n",
    "    print(f\"\\nCalendar for {calendar.month_name[month]} {year}:\\n\")\n",
    "    for week in cal:\n",
    "        print(week)\n",
    "\n",
    "if __name__ == \"__main__\":\n",
    "    main()\n"
   ]
  },
  {
   "cell_type": "code",
   "execution_count": 2,
   "id": "496e9cbb-4be3-490c-b336-e159bc96c44d",
   "metadata": {},
   "outputs": [
    {
     "name": "stdout",
     "output_type": "stream",
     "text": [
      "Welcome to Blackjack!\n",
      "Your cards: [10, 10], current score: 20\n",
      "Computer's first card: 5\n"
     ]
    },
    {
     "name": "stdin",
     "output_type": "stream",
     "text": [
      "Type 'y' to get another card, 'n' to pass:  n\n"
     ]
    },
    {
     "name": "stdout",
     "output_type": "stream",
     "text": [
      "Your final hand: [10, 10], final score: 20\n",
      "Computer's final hand: [5, 8, 10], final score: 23\n",
      "Computer went over. You win!\n"
     ]
    }
   ],
   "source": [
    "#39. Build a program that simulates a basic text-based blackjack game against the computer.\n",
    "import random\n",
    "\n",
    "def deal_card():\n",
    "    \"\"\"Deal a random card from the deck.\"\"\"\n",
    "    cards = [11, 2, 3, 4, 5, 6, 7, 8, 9, 10, 10, 10, 10]\n",
    "    return random.choice(cards)\n",
    "\n",
    "def calculate_score(cards):\n",
    "    \"\"\"Calculate the total score of a hand.\"\"\"\n",
    "    if sum(cards) == 21 and len(cards) == 2:\n",
    "        return 0  # Blackjack\n",
    "    if 11 in cards and sum(cards) > 21:\n",
    "        cards.remove(11)\n",
    "        cards.append(1)\n",
    "    return sum(cards)\n",
    "\n",
    "def compare(user_score, computer_score):\n",
    "    \"\"\"Compare the scores and determine the winner.\"\"\"\n",
    "    if user_score > 21 and computer_score > 21:\n",
    "        return \"You went over. You lose!\"\n",
    "    if user_score == computer_score:\n",
    "        return \"It's a draw!\"\n",
    "    elif computer_score == 0:\n",
    "        return \"Computer has Blackjack. You lose!\"\n",
    "    elif user_score == 0:\n",
    "        return \"You have Blackjack! You win!\"\n",
    "    elif user_score > 21:\n",
    "        return \"You went over. You lose!\"\n",
    "    elif computer_score > 21:\n",
    "        return \"Computer went over. You win!\"\n",
    "    elif user_score > computer_score:\n",
    "        return \"You win!\"\n",
    "    else:\n",
    "        return \"You lose!\"\n",
    "\n",
    "def play_game():\n",
    "    print(\"Welcome to Blackjack!\")\n",
    "\n",
    "    user_cards = [deal_card(), deal_card()]\n",
    "    computer_cards = [deal_card(), deal_card()]\n",
    "    is_game_over = False\n",
    "\n",
    "    while not is_game_over:\n",
    "        user_score = calculate_score(user_cards)\n",
    "        computer_score = calculate_score(computer_cards)\n",
    "\n",
    "        print(f\"Your cards: {user_cards}, current score: {user_score}\")\n",
    "        print(f\"Computer's first card: {computer_cards[0]}\")\n",
    "\n",
    "        if user_score == 0 or computer_score == 0 or user_score > 21:\n",
    "            is_game_over = True\n",
    "        else:\n",
    "            should_continue = input(\"Type 'y' to get another card, 'n' to pass: \").lower()\n",
    "            if should_continue == 'y':\n",
    "                user_cards.append(deal_card())\n",
    "            else:\n",
    "                is_game_over = True\n",
    "\n",
    "    while computer_score != 0 and computer_score < 17:\n",
    "        computer_cards.append(deal_card())\n",
    "        computer_score = calculate_score(computer_cards)\n",
    "\n",
    "    print(f\"Your final hand: {user_cards}, final score: {user_score}\")\n",
    "    print(f\"Computer's final hand: {computer_cards}, final score: {computer_score}\")\n",
    "    print(compare(user_score, computer_score))\n",
    "\n",
    "# Run the game\n",
    "play_game()\n"
   ]
  },
  {
   "cell_type": "code",
   "execution_count": 4,
   "id": "baa71ca1-a016-4b3e-be62-6c143d8ee1e1",
   "metadata": {},
   "outputs": [
    {
     "name": "stdout",
     "output_type": "stream",
     "text": [
      "Prime Factor Generator using Trial Division\n",
      "\n",
      "Prime factors of 39:\n",
      "[3, 13]\n"
     ]
    }
   ],
   "source": [
    "#40. Write a program that generates the prime factors of a given number using trial division.\n",
    "def generate_prime_factors(number):\n",
    "    \"\"\"Generate the prime factors of a given number using trial division.\"\"\"\n",
    "    prime_factors = []\n",
    "    divisor = 2\n",
    "\n",
    "    while divisor <= number:\n",
    "        if number % divisor == 0:\n",
    "            prime_factors.append(divisor)\n",
    "            number //= divisor\n",
    "        else:\n",
    "            divisor += 1\n",
    "\n",
    "    return prime_factors\n",
    "\n",
    "def get_user_input():\n",
    "    \"\"\"Get user input for the number.\"\"\"\n",
    "    try:\n",
    "        number = 39\n",
    "        if number <= 0:\n",
    "            print(\"Invalid input. Please enter a positive integer.\")\n",
    "            return get_user_input()\n",
    "        return number\n",
    "    except ValueError:\n",
    "        print(\"Invalid input. Please enter a valid numerical value.\")\n",
    "        return get_user_input()\n",
    "\n",
    "def main():\n",
    "    print(\"Prime Factor Generator using Trial Division\")\n",
    "\n",
    "    number = get_user_input()\n",
    "\n",
    "    prime_factors = generate_prime_factors(number)\n",
    "\n",
    "    print(f\"\\nPrime factors of {number}:\")\n",
    "    print(prime_factors)\n",
    "\n",
    "if __name__ == \"__main__\":\n",
    "    main()"
   ]
  },
  {
   "cell_type": "code",
   "execution_count": null,
   "id": "e3bbcb78-1793-48db-9842-4a60607a82a5",
   "metadata": {},
   "outputs": [],
   "source": [
    "                                                                               #END"
   ]
  }
 ],
 "metadata": {
  "kernelspec": {
   "display_name": "Python 3 (ipykernel)",
   "language": "python",
   "name": "python3"
  },
  "language_info": {
   "codemirror_mode": {
    "name": "ipython",
    "version": 3
   },
   "file_extension": ".py",
   "mimetype": "text/x-python",
   "name": "python",
   "nbconvert_exporter": "python",
   "pygments_lexer": "ipython3",
   "version": "3.10.8"
  }
 },
 "nbformat": 4,
 "nbformat_minor": 5
}
